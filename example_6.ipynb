{
 "cells": [
  {
   "cell_type": "markdown",
   "metadata": {},
   "source": [
    "# Example 6: Counting and measuring freshwater snails\n",
    "\n",
    "In this example we will use thresholding and watershed algorithms to count freshwater snails."
   ]
  },
  {
   "cell_type": "markdown",
   "metadata": {},
   "source": [
    "<div class=\"row; text-align: left\">\n",
    "    \n",
    "<div class=\"col-md-6\">\n",
    "    \n",
    "![Before](_assets/images/figures/ex6_before.jpg)\n",
    "    \n",
    "**Input** - Snails photographed from a camera stand. Variable brightness across the tray and snail clumping are the biggest challenges.\n",
    "</div>\n",
    "<div class=\"col-md-6\">\n",
    "\n",
    "![After](_assets/images/figures/ex6_after.jpg)\n",
    "    \n",
    "**Results** - After applying adaptive thresholding and a watershed algorithm, the snail separate well from the background. Now we can count them, and measure size, shape and colouration\n",
    "</div>\n",
    "</div>\n"
   ]
  },
  {
   "cell_type": "markdown",
   "metadata": {},
   "source": [
    "## Low throughput\n",
    "\n",
    "First, we test a single image with the low throughput workflow."
   ]
  },
  {
   "cell_type": "code",
   "execution_count": 4,
   "metadata": {},
   "outputs": [
    {
     "name": "stdout",
     "output_type": "stream",
     "text": [
      "Directory to save files set at - E:\\git_repos\\phenopype\\_temp\\output\\ex6\n"
     ]
    }
   ],
   "source": [
    "import phenopype as pp\n",
    "import os \n",
    "\n",
    "image_dir = \"images/snails1.jpg\"\n",
    "\n",
    "ct = pp.load_image(image_dir, \n",
    "                   cont=True,  # load as container\n",
    "                   dirpath= \"_temp/output/ex6\",  # specify save-directory\n",
    "                   save_suffix = \"snails1\") # give files a save-suffix (e.g. \"contours_ex6.csv\")"
   ]
  },
  {
   "cell_type": "markdown",
   "metadata": {},
   "source": [
    "The `load` method of a `container` attempts to load any previously saved results, masks, etc. from the specified `dirpath`. `reset` will only reset the modified images, as well as image and contour DataFrames. This will preserve any drawn masks or other data stemming from user interaction.  "
   ]
  },
  {
   "cell_type": "code",
   "execution_count": 2,
   "metadata": {},
   "outputs": [
    {
     "name": "stdout",
     "output_type": "stream",
     "text": [
      "AUTOLOAD\n",
      "- masks_snails1.csv\n"
     ]
    }
   ],
   "source": [
    "ct.load()\n",
    "ct.reset()"
   ]
  },
  {
   "cell_type": "markdown",
   "metadata": {},
   "source": [
    "Begin by drawing a mask around the snails inside the tray by dragging a rectangle around them - finish with `Enter`, abort with `Esc`."
   ]
  },
  {
   "cell_type": "code",
   "execution_count": 5,
   "metadata": {},
   "outputs": [
    {
     "name": "stdout",
     "output_type": "stream",
     "text": [
      "- create mask\n"
     ]
    }
   ],
   "source": [
    "pp.preprocessing.create_mask(ct)"
   ]
  },
  {
   "cell_type": "markdown",
   "metadata": {},
   "source": [
    "Now we need to measure the pixel-to-mm-ratio. The snail pictures don't contain a scale that is appropriate for automatic detection - the millimeter-paper on the side does not contain enough unique keypoints to be detected by the [AKAZE algorithm](http://www.bmva.org/bmvc/2013/Papers/paper0013/abstract0013.pdf) that powers `find_scale`. Therefore each image needs to be manually measured by dragging a line across the mm-paper, and entering the distance. \n",
    "\n",
    "**Note:** It is better to measure a long distance than a short distance to minimize the measurement error - use the full length (~70 mm) here."
   ]
  },
  {
   "cell_type": "code",
   "execution_count": 6,
   "metadata": {},
   "outputs": [
    {
     "name": "stdout",
     "output_type": "stream",
     "text": [
      "- measure pixel-to-mm-ratio\n",
      "Scale set\n",
      "- add column length\n"
     ]
    }
   ],
   "source": [
    "pp.preprocessing.create_scale(ct)"
   ]
  },
  {
   "cell_type": "markdown",
   "metadata": {},
   "source": [
    "For high data quality it is important to verify the ID of the specimen in the current picture. Often, the picture name contains the ID, but typically an label is placed inside the image. Using the `enter_data` tool we open the image and an entry prompt that will create a column with a name of our chosing inside all exported results."
   ]
  },
  {
   "cell_type": "code",
   "execution_count": 7,
   "metadata": {},
   "outputs": [
    {
     "name": "stdout",
     "output_type": "stream",
     "text": [
      "- add column ID\n"
     ]
    }
   ],
   "source": [
    "pp.preprocessing.enter_data(ct, columns=\"ID\")"
   ]
  },
  {
   "cell_type": "markdown",
   "metadata": {},
   "source": [
    "Next is segmentation. First we blur the image a little, convert it to a binary image, and look at the results:"
   ]
  },
  {
   "cell_type": "code",
   "execution_count": 8,
   "metadata": {},
   "outputs": [
    {
     "name": "stdout",
     "output_type": "stream",
     "text": [
      "- include mask \"mask1\" pixels\n"
     ]
    }
   ],
   "source": [
    "pp.segmentation.blur(ct)\n",
    "pp.segmentation.threshold(ct, \n",
    "                          method=\"adaptive\", \n",
    "                          blocksize=59, ## relatively low sensitivity\n",
    "                          constant=10) ## relatively constant gets subtracted from the binary result\n",
    "pp.show_image(ct) # `ct` automatically shows the last edit within the container, `ct.image` would also work"
   ]
  },
  {
   "cell_type": "markdown",
   "metadata": {},
   "source": [
    "The break up the clumping, we apply the watershed algorithm to the binarized image:"
   ]
  },
  {
   "cell_type": "code",
   "execution_count": 9,
   "metadata": {},
   "outputs": [],
   "source": [
    "pp.segmentation.watershed(ct, distance_cutoff=0.5) # , iterations=1, kernel_size=1\n",
    "pp.show_image(ct)"
   ]
  },
  {
   "cell_type": "markdown",
   "metadata": {},
   "source": [
    "With this image we can find the contours - for watershed we *have* to select the `\"ccomp\"` option."
   ]
  },
  {
   "cell_type": "code",
   "execution_count": 10,
   "metadata": {},
   "outputs": [],
   "source": [
    "pp.segmentation.find_contours(ct, \n",
    "                              retrieval=\"ccomp\", # this finds the splitted inner rather than the outer contours\n",
    "                              min_area=200,  # noise removal\n",
    "                              subset=\"child\") # needs to be \"child\" for watershed"
   ]
  },
  {
   "cell_type": "markdown",
   "metadata": {},
   "source": [
    "With the contours we have acquired the primary information (counts, size, area) contained in the image. However, since we have the contour location, we get the colour for free. Note that we also measure the background whiteness of each scale (`background=True`). This is important, as the snails lie across a brightness gradient within the images. "
   ]
  },
  {
   "cell_type": "code",
   "execution_count": 11,
   "metadata": {},
   "outputs": [],
   "source": [
    "pp.measurement.colour_intensity(ct,\n",
    "                                background=True) # this measures the whiteness of the area around each detected snails "
   ]
  },
  {
   "cell_type": "markdown",
   "metadata": {},
   "source": [
    "Now we draw the contours..."
   ]
  },
  {
   "cell_type": "code",
   "execution_count": 12,
   "metadata": {},
   "outputs": [
    {
     "name": "stdout",
     "output_type": "stream",
     "text": [
      "- raw image\n"
     ]
    }
   ],
   "source": [
    "pp.visualization.select_canvas(ct, # onto which image should the contours be draw\n",
    "                               canvas=\"raw\") # raw = original image\n",
    "pp.visualization.draw_contours(ct, \n",
    "                               fill=0, \n",
    "                               line_width=2, \n",
    "                               watershed=True, # this flag needs to be added when using watershedding\n",
    "                               bounding_box=True) # this indicates the area where the background was measured\n",
    "pp.show_image(ct.canvas)"
   ]
  },
  {
   "cell_type": "markdown",
   "metadata": {},
   "source": [
    "... and save them, as well as the masks (if we need to redo this) and the canvas for quality control."
   ]
  },
  {
   "cell_type": "code",
   "execution_count": 13,
   "metadata": {},
   "outputs": [
    {
     "name": "stdout",
     "output_type": "stream",
     "text": [
      "- canvas saved under _temp/output/ex6\\canvas_snails1.jpg (overwritten).\n",
      "- masks saved under _temp/output/ex6\\masks_snails1.csv (overwritten).\n",
      "- contours saved under _temp/output/ex6\\contours_snails1.csv (overwritten).\n"
     ]
    }
   ],
   "source": [
    "pp.export.save_canvas(ct)\n",
    "pp.export.save_masks(ct)\n",
    "pp.export.save_contours(ct)"
   ]
  },
  {
   "cell_type": "markdown",
   "metadata": {},
   "source": [
    "**Note:** the countour csv contains only the inner, watershedded contours (separated=\"child\"), the outer (unseparated=\"parent\") were removed with `find_contours`."
   ]
  },
  {
   "cell_type": "markdown",
   "metadata": {},
   "source": [
    "## High throughput \n",
    "\n",
    "As for the other examples I have created a preset (`ex6`) with appropriate settings for the example. The template can be passed to the `pype` using `config_preset=\"ex6\"` - see below. "
   ]
  },
  {
   "cell_type": "markdown",
   "metadata": {},
   "source": [
    "<center>\n",
    "<div style=\"width:700px; text-align: justify\">\n",
    "    \n",
    "![Adding a scale](_assets/images/figures/ex6_out.jpg)\n",
    "\n",
    "Because there is a brightness gradient across the image, correcting the exposure across all images will not work. Instead we use the `colour_intensity` to return the local background whiteness (within the rectangle, excluding all snail pixels). Each snail will have an individual background brightness score that can be used to normalize the detected values, so that the colour intensity becomes a meaningful trait within and across images.\n",
    "</div>\n",
    "</center>"
   ]
  },
  {
   "cell_type": "markdown",
   "metadata": {},
   "source": [
    "First, set some directories and inspect the preset."
   ]
  },
  {
   "cell_type": "code",
   "execution_count": 1,
   "metadata": {},
   "outputs": [
    {
     "name": "stdout",
     "output_type": "stream",
     "text": [
      "\n",
      "preprocessing:\n",
      "- create_mask\n",
      "- create_scale\n",
      "- enter_data\n",
      "segmentation:\n",
      "- blur:\n",
      "    kernel_size: 3\n",
      "- threshold:\n",
      "    method: adaptive\n",
      "    blocksize: 59\n",
      "    constant: 10\n",
      "    channel: gray\n",
      "- watershed:\n",
      "    distance_cutoff: 0.5\n",
      "# - draw  # to separate snails\n",
      "- find_contours:\n",
      "    retrieval: ccomp # needs to be ccomp for watershed\n",
      "    min_diameter: 0\n",
      "    min_area: 200\n",
      "    subset: child # needs to be child for watershed\n",
      "measurement:\n",
      "- colour_intensity:\n",
      "    background: True\n",
      "visualization:\n",
      "- select_canvas:\n",
      "    canvas: raw\n",
      "- draw_contours:\n",
      "    line_width: 2\n",
      "    label_width: 1\n",
      "    label_size: 1\n",
      "    fill: 0\n",
      "    watershed: true\n",
      "    bounding_box: True\n",
      "- draw_masks\n",
      "export:\n",
      "- save_contours:\n",
      "    save_coords: False\n",
      "- save_colours\n",
      "- save_masks\n",
      "\n"
     ]
    }
   ],
   "source": [
    "import phenopype as pp\n",
    "import os \n",
    "\n",
    "project_root = r\"_temp/output/ex6_proj\"\n",
    "images = r\"images\"\n",
    "\n",
    "print(pp.presets.ex6)"
   ]
  },
  {
   "cell_type": "markdown",
   "metadata": {},
   "source": [
    "Then create a project. As stated above in the low throughput instructions: defining a project wide scale will not work because the provided reference card is too homogeneous, i.e. does not contain enough keypoints for registration by `find_scale`. If you already have created the project, simply load it."
   ]
  },
  {
   "cell_type": "code",
   "execution_count": 2,
   "metadata": {},
   "outputs": [
    {
     "name": "stdout",
     "output_type": "stream",
     "text": [
      "--------------------------------------------\n",
      "Project loaded from \n",
      "E:\\git_repos\\phenopype\\_temp\\output\\ex6_proj\n",
      "--------------------------------------------\n"
     ]
    }
   ],
   "source": [
    "if not os.path.isdir(project_root):\n",
    "    proj = pp.project(root_dir=project_root, overwrite=True)\n",
    "    proj.add_files(image_dir=images, include=\"snails\", overwrite=True)\n",
    "    proj.add_config(name = \"v1\", overwrite=True, preset=\"ex6\")\n",
    "    pp.project.save(proj, overwrite=True)\n",
    "else:\n",
    "    proj = pp.project.load(project_root)"
   ]
  },
  {
   "cell_type": "markdown",
   "metadata": {},
   "source": [
    "Now you can loop through all directories stored within the project object to detect the snails."
   ]
  },
  {
   "cell_type": "code",
   "execution_count": 3,
   "metadata": {},
   "outputs": [
    {
     "name": "stdout",
     "output_type": "stream",
     "text": [
      "E:\\git_repos\\phenopype\\_temp\\output\\ex6_proj\\data\\0__snails1\\pype_config_v1.yaml\n",
      "\n",
      "\n",
      "------------+++ new pype iteration 2020:05:01 18:48:25 +++--------------\n",
      "\n",
      "\n",
      "AUTOLOAD\n",
      "- columns ID from attributes.yaml\n",
      "- current scale information loaded from attributes.yaml\n",
      "- masks_v1.csv\n",
      "PREPROCESSING\n",
      "create_mask\n",
      "- mask with label mask1 already created (overwrite=False)\n",
      "create_scale\n",
      "- scale pixel-to-mm-ratio already measured (overwrite=False)\n",
      "enter_data\n",
      "- column ID already created (overwrite=False)\n",
      "SEGMENTATION\n",
      "blur\n",
      "threshold\n",
      "- include mask \"mask1\" pixels\n",
      "watershed\n",
      "find_contours\n",
      "MEASUREMENT\n",
      "colour_intensity\n",
      "VISUALIZATION\n",
      "select_canvas\n",
      "- raw image\n",
      "draw_contours\n",
      "draw_masks\n",
      " - show mask: mask1.\n",
      "EXPORT\n",
      "save_contours\n",
      "- contours saved under E:\\git_repos\\phenopype\\_temp\\output\\ex6_proj\\data\\0__snails1\\contours_v1.csv (overwritten).\n",
      "save_colours\n",
      "- colours saved under E:\\git_repos\\phenopype\\_temp\\output\\ex6_proj\\data\\0__snails1\\colours_v1.csv (overwritten).\n",
      "save_masks\n",
      "- masks saved under E:\\git_repos\\phenopype\\_temp\\output\\ex6_proj\\data\\0__snails1\\masks_v1.csv (overwritten).\n",
      "AUTOSAVE\n",
      "save_canvas\n",
      "- canvas saved under E:\\git_repos\\phenopype\\_temp\\output\\ex6_proj\\data/0__snails1\\canvas_v1.jpg (overwritten).\n",
      "save_data_entry\n",
      "- column ID not saved (overwrite=False)\n",
      "save_scale\n",
      "- save scale to attributes (overwriting)\n",
      "\n",
      "\n",
      "TERMINATE\n",
      "E:\\git_repos\\phenopype\\_temp\\output\\ex6_proj\\data\\0__snails2\\pype_config_v1.yaml\n",
      "\n",
      "\n",
      "------------+++ new pype iteration 2020:05:01 18:48:27 +++--------------\n",
      "\n",
      "\n",
      "AUTOLOAD\n",
      "- columns ID from attributes.yaml\n",
      "- current scale information loaded from attributes.yaml\n",
      "- masks_v1.csv\n",
      "PREPROCESSING\n",
      "create_mask\n",
      "- mask with label mask1 already created (overwrite=False)\n",
      "create_scale\n",
      "- scale pixel-to-mm-ratio already measured (overwrite=False)\n",
      "enter_data\n",
      "- column ID already created (overwrite=False)\n",
      "SEGMENTATION\n",
      "blur\n",
      "threshold\n",
      "- include mask \"mask1\" pixels\n",
      "watershed\n",
      "find_contours\n",
      "MEASUREMENT\n",
      "colour_intensity\n",
      "VISUALIZATION\n",
      "select_canvas\n",
      "- raw image\n",
      "draw_contours\n",
      "draw_masks\n",
      " - show mask: mask1.\n",
      "EXPORT\n",
      "save_contours\n",
      "- contours saved under E:\\git_repos\\phenopype\\_temp\\output\\ex6_proj\\data\\0__snails2\\contours_v1.csv (overwritten).\n",
      "save_colours\n",
      "- colours saved under E:\\git_repos\\phenopype\\_temp\\output\\ex6_proj\\data\\0__snails2\\colours_v1.csv (overwritten).\n",
      "save_masks\n",
      "- masks saved under E:\\git_repos\\phenopype\\_temp\\output\\ex6_proj\\data\\0__snails2\\masks_v1.csv (overwritten).\n",
      "AUTOSAVE\n",
      "save_canvas\n",
      "- canvas saved under E:\\git_repos\\phenopype\\_temp\\output\\ex6_proj\\data\\0__snails2\\canvas_v1.jpg (overwritten).\n",
      "save_data_entry\n",
      "- column ID not saved (overwrite=False)\n",
      "save_scale\n",
      "- save scale to attributes (overwriting)\n",
      "\n",
      "\n",
      "TERMINATE\n"
     ]
    }
   ],
   "source": [
    "for i in proj.dirpaths:\n",
    "    p = pp.pype(i, name=\"v1\")"
   ]
  },
  {
   "cell_type": "markdown",
   "metadata": {},
   "source": [
    "In the end, use the `collect_results` method of `proj` to save all results to a folder in the root directory."
   ]
  },
  {
   "cell_type": "code",
   "execution_count": 1,
   "metadata": {},
   "outputs": [
    {
     "ename": "NameError",
     "evalue": "name 'proj' is not defined",
     "output_type": "error",
     "traceback": [
      "\u001b[1;31m---------------------------------------------------------------------------\u001b[0m",
      "\u001b[1;31mNameError\u001b[0m                                 Traceback (most recent call last)",
      "\u001b[1;32m<ipython-input-1-b2cf852f4471>\u001b[0m in \u001b[0;36m<module>\u001b[1;34m\u001b[0m\n\u001b[1;32m----> 1\u001b[1;33m \u001b[0mproj\u001b[0m\u001b[1;33m.\u001b[0m\u001b[0mcollect_results\u001b[0m\u001b[1;33m(\u001b[0m\u001b[0mname\u001b[0m\u001b[1;33m=\u001b[0m\u001b[1;34m\"v1\"\u001b[0m\u001b[1;33m,\u001b[0m\u001b[0mfiles\u001b[0m\u001b[1;33m=\u001b[0m\u001b[1;33m[\u001b[0m\u001b[1;34m\"contours\"\u001b[0m\u001b[1;33m]\u001b[0m\u001b[1;33m,\u001b[0m \u001b[0mfolder\u001b[0m\u001b[1;33m=\u001b[0m\u001b[1;34m\"contours_ref\"\u001b[0m\u001b[1;33m,\u001b[0m \u001b[0moverwrite\u001b[0m\u001b[1;33m=\u001b[0m\u001b[1;32mTrue\u001b[0m\u001b[1;33m)\u001b[0m\u001b[1;33m\u001b[0m\u001b[1;33m\u001b[0m\u001b[0m\n\u001b[0m",
      "\u001b[1;31mNameError\u001b[0m: name 'proj' is not defined"
     ]
    }
   ],
   "source": [
    "proj.collect_results(name=\"v1\",files=[\"contours\"], folder=\"contours_ref\", overwrite=True)"
   ]
  },
  {
   "cell_type": "code",
   "execution_count": null,
   "metadata": {},
   "outputs": [],
   "source": []
  }
 ],
 "metadata": {
  "kernelspec": {
   "display_name": "Python 3",
   "language": "python",
   "name": "python3"
  },
  "language_info": {
   "codemirror_mode": {
    "name": "ipython",
    "version": 3
   },
   "file_extension": ".py",
   "mimetype": "text/x-python",
   "name": "python",
   "nbconvert_exporter": "python",
   "pygments_lexer": "ipython3",
   "version": "3.7.6"
  }
 },
 "nbformat": 4,
 "nbformat_minor": 4
}
