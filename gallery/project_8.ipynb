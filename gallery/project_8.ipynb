{
 "cells": [
  {
   "cell_type": "markdown",
   "metadata": {},
   "source": [
    "# Example 8: Extracting shape features from fossil teeth of cichlids\n",
    "\n",
    "This example demonstrates how basic and complex features of tooth-shapes are extracted from images containing single and multiple microscope images. Two separate phenopype projects are used for better organization (single tooth and multiple tooth per images). All images are kindly provided by Ole Seehausen."
   ]
  },
  {
   "cell_type": "markdown",
   "metadata": {},
   "source": [
    "<div style=\"display: flex; flex-direction: row; text-align:left; gap: 10px;\"  class=\"row\">\n",
    "    \n",
    "<div class=\"col-md-6\" style=\"flex: 1 1 0px;\">\n",
    "    \n",
    "![Before - single tooth case](_figures/project_8_before1.jpg)\n",
    "    \n",
    "</div>\n",
    "    \n",
    "<div class=\"col-md-6\" style=\"flex: 1 1 0px;\">\n",
    "\n",
    "![After - single tooth case](_figures/project_8_after1.jpg)\n",
    "    \n",
    "</div>\n",
    "        \n",
    "<div class=\"col-md-6\" style=\"flex: 1 1 0px;\">\n",
    "    \n",
    "![Before](_figures/project_8_before2.jpg)\n",
    "    \n",
    "</div>\n",
    "    \n",
    "<div class=\"col-md-6\" style=\"flex: 1 1 0px;\">\n",
    "\n",
    "![After](_figures/project_8_after2.jpg)\n",
    "    \n",
    "</div>\n",
    "        \n",
    "</div>"
   ]
  },
  {
   "cell_type": "markdown",
   "metadata": {},
   "source": [
    "## Background\n",
    "\n",
    "\n",
    "\n",
    "<center>\n",
    "<div style=\"width:600px; text-align: left\" >\n",
    "    \n",
    "![Cichlid jaw](_figures/project_8_jaw.jpg)\n",
    "**Fig. 1** - Teeth of haplochromine cichlids, still attached to the jaw. \n",
    "    \n",
    "</div>\n",
    "</center>"
   ]
  },
  {
   "cell_type": "markdown",
   "metadata": {},
   "source": [
    "## Single teeth\n",
    "\n",
    "These are single-tooth images where the background is brighter than the teeth, and also quite noisy. The challenges here lie in preventing unwanted objects from being detected (e.g. the checkered paper). In this case, the easiest way is to draw a rectangle mask around the object. Furthermore, the scale bar needs to be measured in every image because it varies in size between images. This is because the microscope software returns non-standardized scale bars that vary between images."
   ]
  },
  {
   "cell_type": "markdown",
   "metadata": {},
   "source": [
    "## Multiple teeth\n",
    "\n",
    "Now we will implement the same procedure for the images with multiple teeth, which require only a slightly altered configuration."
   ]
  },
  {
   "cell_type": "code",
   "execution_count": null,
   "metadata": {},
   "outputs": [],
   "source": []
  }
 ],
 "metadata": {
  "kernelspec": {
   "display_name": "Python 3 (ipykernel)",
   "language": "python",
   "name": "python3"
  },
  "language_info": {
   "codemirror_mode": {
    "name": "ipython",
    "version": 3
   },
   "file_extension": ".py",
   "mimetype": "text/x-python",
   "name": "python",
   "nbconvert_exporter": "python",
   "pygments_lexer": "ipython3",
   "version": "3.7.11"
  }
 },
 "nbformat": 4,
 "nbformat_minor": 4
}
