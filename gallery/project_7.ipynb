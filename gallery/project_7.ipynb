{
 "cells": [
  {
   "cell_type": "markdown",
   "metadata": {},
   "source": [
    "# Project 7: Measuring worm length\n",
    "\n",
    "In this project, the length of california blackworms (*Lumbriculus variegatus*) is measured in 6 well plates, which are detected automatically with the Hough Transform algorithm in `detect_shape`."
   ]
  },
  {
   "cell_type": "markdown",
   "metadata": {},
   "source": [
    "<div style=\"display: flex; flex-direction: row; text-align:left; gap: 10px;\"  class=\"row\">\n",
    "    \n",
    "<div class=\"col-md-6\" style=\"flex: 1 1 0px;\">\n",
    "    \n",
    "![Before](_figures/project_7_before.jpg)\n",
    "    \n",
    "**Input** - Worms placed in 6 well plates\n",
    "    \n",
    "</div>\n",
    "<div class=\"col-md-6\" style=\"flex: 1 1 0px;\">\n",
    "\n",
    "![After](_figures/project_7_after.jpg)\n",
    "    \n",
    "**Results** - extracted body contour (green area) and body length (red line) as a topological skeleton\n",
    "</div>\n",
    "</div>\n"
   ]
  },
  {
   "cell_type": "markdown",
   "metadata": {},
   "source": [
    "## Background\n",
    "\n",
    "Body length is a commonly measured trait. However, live animals are typically not well behaved in front of camera: typically the body is not aligned straight, which makes length measure difficult and sometimes time consuming. Some computer vision can help here, such as skeletonization (https://en.wikipedia.org/wiki/Topological_skeleton) for an acurate semi automatic approach, and polyline drawing for a less acurate, manual aproach.\n",
    "\n",
    "[Hough transformation](https://en.wikipedia.org/wiki/Hough_transform)\n"
   ]
  },
  {
   "cell_type": "markdown",
   "metadata": {},
   "source": [
    "## Preparation"
   ]
  },
  {
   "cell_type": "code",
   "execution_count": 1,
   "metadata": {},
   "outputs": [
    {
     "name": "stdout",
     "output_type": "stream",
     "text": [
      "could not retrieve template from online repo\n",
      "something went wrong - could not find template\n"
     ]
    }
   ],
   "source": [
    "\n",
    "import phenopype as pp\n",
    "import os\n",
    "import urllib.request\n",
    "\n",
    "## change for your own machine\n",
    "name_stub = \"project_7\"\n",
    "working_dir = os.path.join(r\"D:\\workspace\\git-repos\\phenopype\\phenopype-gallery\\_temp\", name_stub)\n",
    "template_repo_path = r\"D:\\workspace\\git-repos\\phenopype\\phenopype-templates\"\n",
    "\n",
    "## create dir, if not existent\n",
    "if not os.path.isdir(working_dir):\n",
    "    os.makedirs(working_dir)\n",
    "os.chdir(working_dir)\n",
    "\n",
    "## set template name \n",
    "template_name = \"gallery_\" + name_stub + \".yaml\"\n",
    "\n",
    "## download Pype-template from online-repo ...\n",
    "try:\n",
    "    url = \"https://raw.githubusercontent.com/phenopype/phenopype-templates/main/templates/gallery/\" + template_name\n",
    "    urllib.request.urlretrieve(url, template_name)\n",
    "    if os.path.isfile(template_name):\n",
    "        template_path = template_name\n",
    "except:\n",
    "    print(\"could not retrieve template from online repo\")\n",
    "\n",
    "## ... or provide link to downloaded phenopype-templates repo (exchange for your own directory)\n",
    "if os.path.isdir(template_repo_path):\n",
    "    if \"templates\" in os.listdir(template_repo_path):\n",
    "        template_path = os.path.join(template_repo_path, r\"templates\\gallery\", template_name)\n",
    "        \n",
    "## confirm template exists\n",
    "if os.path.isfile(template_path):\n",
    "    print(os.path.abspath(template_path))\n",
    "else:\n",
    "    print(\"something went wrong - could not find template\")"
   ]
  },
  {
   "cell_type": "code",
   "execution_count": 2,
   "metadata": {},
   "outputs": [
    {
     "name": "stdout",
     "output_type": "stream",
     "text": [
      "--------------------------------------------\n",
      "Creating a new phenopype project directory at:\n",
      "D:\\workspace\\git-repos\\phenopype\\phenopype-gallery\\_temp\\project_7\\project\n",
      "\n",
      "Proceed? (y/n)\n",
      "y\n",
      "\n",
      "Project \"project\" successfully created.\n",
      "--------------------------------------------\n"
     ]
    }
   ],
   "source": [
    "proj = pp.Project(\"project\")"
   ]
  },
  {
   "cell_type": "code",
   "execution_count": 3,
   "metadata": {},
   "outputs": [
    {
     "name": "stdout",
     "output_type": "stream",
     "text": [
      "--------------------------------------------\n",
      "phenopype will search for image files at\n",
      "\n",
      "D:\\workspace\\git-repos\\phenopype\\phenopype-gallery\\gallery\\data\n",
      "\n",
      "using the following settings:\n",
      "\n",
      "filetypes: ['jpg', 'JPG', 'jpeg', 'JPEG', 'tif', 'png', 'bmp'], include: worms, exclude: [], mode: copy, recursive: False, resize: False, unique: path\n",
      "\n",
      "Found image worms.jpg - phenopype-project folder 0__worms created\n",
      "D:\\workspace\\git-repos\\phenopype\\phenopype-gallery\\gallery\\data\\worms.jpg\n",
      "\n",
      "Found 1 files\n",
      "--------------------------------------------\n"
     ]
    }
   ],
   "source": [
    "proj.add_files(image_dir = r\"../../gallery/data\", include=\"worms\")\n"
   ]
  },
  {
   "cell_type": "code",
   "execution_count": 6,
   "metadata": {},
   "outputs": [
    {
     "name": "stdout",
     "output_type": "stream",
     "text": [
      "- template saved under D:\\workspace\\git-repos\\phenopype\\phenopype-gallery\\_temp\\project_7\\project\\data\\0__worms\\pype_config_v1.yaml\n"
     ]
    }
   ],
   "source": [
    "## add the config template; provide a tag\n",
    "proj.add_config(template_path=template_path, tag=\"v1\", overwrite=True)"
   ]
  },
  {
   "cell_type": "code",
   "execution_count": 9,
   "metadata": {},
   "outputs": [
    {
     "name": "stdout",
     "output_type": "stream",
     "text": [
      "Format path to abspath\n",
      "- no annotation_type selected - returning all annotations\n",
      "\n",
      "AUTOLOAD\n",
      "- annotations loaded:\n",
      "{\n",
      "\"mask\": [\"a\"],\n",
      "\"contour\": [\"a\", \"b\"],\n",
      "\"drawing\": [\"a\"]\n",
      "}\n",
      "\n",
      "\n",
      "------------+++ new pype iteration 2022-01-17 22:31:11 +++--------------\n",
      "\n",
      "\n",
      "\n",
      "\n",
      "PREPROCESSING\n",
      "detect_shape\n",
      "- loaded existing annotation of type \"mask\" with ID \"a\": overwriting (edit=overwrite)\n",
      "- decompose image: using gray channel\n",
      "- found 1 contours that match criteria\n",
      "- found 1 contours that match criteria\n",
      "- found 1 contours that match criteria\n",
      "- found 1 contours that match criteria\n",
      "- found 1 contours that match criteria\n",
      "- found 1 contours that match criteria\n",
      "Found 6 circles\n",
      "\n",
      "\n",
      "SEGMENTATION\n",
      "threshold\n",
      "- multichannel image supplied, converting to grayscale\n",
      "- decompose image: using gray channel\n",
      "- including pixels from 6 drawn masks \n",
      "detect_contour\n",
      "- loaded existing annotation of type \"contour\" with ID \"a\": overwriting (edit=overwrite)\n",
      "- did not find any contours that match criteria\n",
      "edit_contour\n",
      "- loaded existing annotation of type \"drawing\" with ID \"a\": skipping (edit=False)\n",
      "detect_contour\n",
      "- loaded existing annotation of type \"contour\" with ID \"b\": overwriting (edit=overwrite)\n",
      "- found 836 contours that match criteria\n",
      "\n",
      "\n",
      "VISUALIZATION\n",
      "select_canvas\n",
      "- raw image\n",
      "draw_contour\n",
      "draw_mask\n",
      "\n",
      "\n",
      "EXPORT\n",
      "save_annotation\n",
      "- loading existing annotation file\n",
      "- updating annotation of type \"mask\" with id \"a\" in \"annotations_v1.json\" (overwrite=\"entry\")\n",
      "- updating annotation of type \"contour\" with id \"a\" in \"annotations_v1.json\" (overwrite=\"entry\")\n",
      "- updating annotation of type \"contour\" with id \"b\" in \"annotations_v1.json\" (overwrite=\"entry\")\n",
      "- updating annotation of type \"drawing\" with id \"a\" in \"annotations_v1.json\" (overwrite=\"entry\")\n",
      "\n",
      "\n",
      "------------+++ finished pype iteration +++--------------\n",
      "-------(End with Ctrl+Enter or re-run with Enter)--------\n",
      "\n",
      "\n",
      "AUTOSHOW\n"
     ]
    },
    {
     "ename": "SystemExit",
     "evalue": "\n\nTERMINATE (by user)",
     "output_type": "error",
     "traceback": [
      "An exception has occurred, use %tb to see the full traceback.\n",
      "\u001b[1;31mSystemExit\u001b[0m\u001b[1;31m:\u001b[0m \n\nTERMINATE (by user)\n"
     ]
    }
   ],
   "source": [
    "## run image processing\n",
    "for path in proj.dir_paths:\n",
    "    pp.Pype(path, tag=\"v1\")\n"
   ]
  },
  {
   "cell_type": "code",
   "execution_count": null,
   "metadata": {},
   "outputs": [],
   "source": []
  }
 ],
 "metadata": {
  "kernelspec": {
   "display_name": "Python 3 (ipykernel)",
   "language": "python",
   "name": "python3"
  },
  "language_info": {
   "codemirror_mode": {
    "name": "ipython",
    "version": 3
   },
   "file_extension": ".py",
   "mimetype": "text/x-python",
   "name": "python",
   "nbconvert_exporter": "python",
   "pygments_lexer": "ipython3",
   "version": "3.7.10"
  }
 },
 "nbformat": 4,
 "nbformat_minor": 4
}
