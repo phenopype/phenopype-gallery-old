{
 "cells": [
  {
   "cell_type": "markdown",
   "metadata": {},
   "source": [
    "# Example 5: Stickleback morphometrics - body and armor-plate shape\n",
    "\n",
    "Variation in continuous phenotypic traits like shape or area of certain structures are difficult to quantify with landmarks, because they are too complex or have no underlying assumption of homology. In this example, the number and area of armor plating was measured as a continuous trait in a two-step process: first, a mask was set around the posterior region that contains the plates, second, the red channel (highest signal-to-noise-ratio) of the image was thresholded. "
   ]
  },
  {
   "cell_type": "markdown",
   "metadata": {},
   "source": [
    "In this example we use the `watershed` algorithm, which helps to separate detected objects into \"peaks of wanted information\" and \"valleys of unwanted information\". The principle is explained here: https://docs.opencv.org/master/d3/db4/tutorial_py_watershed.html "
   ]
  },
  {
   "cell_type": "markdown",
   "metadata": {},
   "source": [
    "<div class=\"row; text-align: left\">\n",
    "    \n",
    "<div class=\"col-md-6\">\n",
    "    \n",
    "![Before](_figures/ex5_before.jpg)\n",
    "    \n",
    "**Input** - Stained threespine stickleback. The size of plates at a given plate index varies within at between ecotypes (e.g. lake and stream morphs)  \n",
    "</div>\n",
    "<div class=\"col-md-6\">\n",
    "\n",
    "![After](_figures/ex5_after.jpg)\n",
    "    \n",
    "**Results** - After applying adaptive thresholding and watershed algorithms, the plates separate. Where this is not the case they can be separated manually.\n",
    "</div>\n",
    "</div>"
   ]
  },
  {
   "cell_type": "markdown",
   "metadata": {},
   "source": [
    "## High throughput workflow 1 (Thresholding based)\n",
    "\n",
    "First we need to create a project, as described in [Tutorial 3](tutorial_3_managing_projects_1.ipynb) and [Tutorial 4](tutorial_4_managing_projects_2.ipynb). \n",
    "\n",
    "**Note:** If you have already created a project you can skip the following steps and load the project with `pp.project.load(\"path/to/project\")`."
   ]
  },
  {
   "cell_type": "code",
   "execution_count": null,
   "metadata": {},
   "outputs": [],
   "source": [
    "import phenopype as pp\n",
    "\n",
    "## relative from phenopype-master/tutorials\n",
    "project_root = r\"_temp/output/ex5_project\"\n",
    "image_dir = \"images\"\n",
    "reference_image = \"images/stickleback_side.jpg\""
   ]
  },
  {
   "cell_type": "markdown",
   "metadata": {},
   "source": [
    "### Create project"
   ]
  },
  {
   "cell_type": "code",
   "execution_count": null,
   "metadata": {},
   "outputs": [],
   "source": [
    "ex5_1 = pp.project(root_dir=project_root)"
   ]
  },
  {
   "cell_type": "markdown",
   "metadata": {},
   "source": [
    "This will create a folder structure and allows for easy creation of the `pype`-configuration files needed for high throughput. First we add the image files in the directory, but only \"stickle1\", \"stickle2\", and \"stickle3\". "
   ]
  },
  {
   "cell_type": "code",
   "execution_count": null,
   "metadata": {},
   "outputs": [],
   "source": [
    "ex5_1.add_files(image_dir=image_dir, include=\"stickle\", exclude=[\"side\",\"top\"])"
   ]
  },
  {
   "cell_type": "markdown",
   "metadata": {},
   "source": [
    "Now we add the appropriate configuration file. As for the other examples I have created a preset (\"ex5\") with appropriate settings, which is passed to the pype using `config_preset=\"ex5\"`."
   ]
  },
  {
   "cell_type": "code",
   "execution_count": null,
   "metadata": {},
   "outputs": [],
   "source": [
    "ex5_1.add_config(name = \"v1\", config_preset=\"ex5\")\n",
    "print(pp.presets.ex5)"
   ]
  },
  {
   "cell_type": "markdown",
   "metadata": {},
   "source": [
    "Now we add reference image to create a scale-template so we can adjust our landmark coordinate space. This is important if for example the distance between the camera and your sample changes.  \n",
    "\n",
    "<center>\n",
    "<div style=\"width:500px; text-align: left\">\n",
    "    \n",
    "![Adding a scale](_figures/ex2_scale.gif)\n",
    "    \n",
    "</div>\n",
    "</center>"
   ]
  },
  {
   "cell_type": "code",
   "execution_count": null,
   "metadata": {},
   "outputs": [],
   "source": [
    "ex5_1.add_scale(reference_image = reference_image, overwrite=True)"
   ]
  },
  {
   "cell_type": "markdown",
   "metadata": {},
   "source": [
    "Afterwards, we save the project (to the root folder). "
   ]
  },
  {
   "cell_type": "code",
   "execution_count": null,
   "metadata": {},
   "outputs": [],
   "source": [
    "pp.project.save(ex5_1)"
   ]
  },
  {
   "cell_type": "markdown",
   "metadata": {},
   "source": [
    "### Load project"
   ]
  },
  {
   "cell_type": "code",
   "execution_count": null,
   "metadata": {},
   "outputs": [],
   "source": [
    "ex5_1 = pp.project.load(project_root)"
   ]
  },
  {
   "cell_type": "markdown",
   "metadata": {},
   "source": [
    "### The procedure\n",
    "\n",
    "The basic points of the procedure are:\n",
    "\n",
    "1. Draw a mask around the area of interest (i.e. the plates)\n",
    "2. Let the algorithm find the scale\n",
    "3. Enter the ID from the reference card into the mask\n",
    "\n",
    "<center>\n",
    "<div style=\"width:500px; text-align: left\" >\n",
    "    \n",
    "![Create masks](_figures/masks2.gif)\n",
    "    \n",
    "</div>\n",
    "</center>\n",
    "\n",
    "The rest is automatic: a watershed algorithm helps to separate the plates. Sensitivity of the algorithm can be mostly controlled with the `distance_cutoff` argument, but also playing around with the thresholding arguments (`blocksize` and `constant`) can help to improve results. \n",
    "\n",
    "Sometimes the overall results are goog except for one or two cases of plates that touch each other. In this case, the `draw` function can be used to separate those plates without changing the whole procedure. "
   ]
  },
  {
   "cell_type": "markdown",
   "metadata": {},
   "source": [
    "Now we can run the `pype` routine with a simple loop on `ex5.dirpaths`, which is a list of all project directories that contain the copied raw images and the config files we generated before. Interrupt the loop with Esc. To resume to the point where you left, add the `skip` argument so directory with processed files are not run again."
   ]
  },
  {
   "cell_type": "code",
   "execution_count": null,
   "metadata": {},
   "outputs": [],
   "source": [
    "for dirpath in ex5_1.dirpaths:\n",
    "    out = pp.pype(dirpath, name=\"v1\", skip=True) "
   ]
  },
  {
   "cell_type": "code",
   "execution_count": null,
   "metadata": {},
   "outputs": [],
   "source": [
    "## inspect results\n",
    "## DataFrame\n",
    "out.container.df_contours.drop(columns=[\"order\", \"idx_child\", \"idx_parent\", \"coords\"])"
   ]
  },
  {
   "cell_type": "code",
   "execution_count": null,
   "metadata": {},
   "outputs": [],
   "source": [
    "## image\n",
    "pp.show_image(out.container.canvas)"
   ]
  },
  {
   "cell_type": "markdown",
   "metadata": {},
   "source": [
    "## High throughput workflow 2 (Manual approach)\n",
    "\n",
    "Sometimes thresholding algorithms don't separate plates that are too close to each other or overap. For this case, the `create_mask` function introduced above can be used to separate out specific plates."
   ]
  },
  {
   "cell_type": "markdown",
   "metadata": {},
   "source": [
    "<center>\n",
    "<div style=\"width:500px; text-align: left\" >\n",
    "    \n",
    "![Find contours manually](_figures/ex5_poly_masks.gif)\n",
    "    \n",
    "Manual polygon drawing using the mask tool. Although this is more manual work, it may sometimes be the only way to separate overlapping or connected body-structures.\n",
    "    \n",
    "</div>\n",
    "</center>\n"
   ]
  },
  {
   "cell_type": "markdown",
   "metadata": {},
   "source": [
    "Just as before we need to create a phenpype project, add the image files, and the appropriate preset (for this part is `\"ex5_2\"`). Again we also set the reference image for scale detection - see above or [Tutorial 4](tutorial_4_managing_projects_2.ipynb#Create-reference-template), or [Example 1](example_1_detect_objects_isopods.ipynb#Create-size-reference), [Example 2](/example_2_landmarks_stickleback.ipynb#Adding-a-scale)."
   ]
  },
  {
   "cell_type": "code",
   "execution_count": 1,
   "metadata": {},
   "outputs": [],
   "source": [
    "import phenopype as pp\n",
    "\n",
    "## relative from phenopype-master/tutorials\n",
    "project_root = r\"_temp/output/ex5_project2\"\n",
    "image_dir = \"images\"\n",
    "reference_image = \"images/stickleback_side.jpg\""
   ]
  },
  {
   "cell_type": "code",
   "execution_count": 2,
   "metadata": {},
   "outputs": [
    {
     "name": "stdout",
     "output_type": "stream",
     "text": [
      "--------------------------------------------\n",
      "Phenopype will create a new project at\n",
      "E:\\git_repos\\phenopype\\_temp\\output\\ex5_project2\n",
      "\n",
      "Proceed? (y/n)\n",
      "y\n",
      "Warning - project root_dir already exists - overwrite? (y/n)y\n",
      "\n",
      "\"E:\\git_repos\\phenopype\\_temp\\output\\ex5_project2\" created (overwritten)\n",
      "\n",
      "project attributes written to E:\\git_repos\\phenopype\\_temp\\output\\ex5_project2\\attributes.yaml\n",
      "--------------------------------------------\n",
      "--------------------------------------------\n",
      "phenopype will search for files at\n",
      "\n",
      "E:\\git_repos\\phenopype\\tutorials\\images\n",
      "\n",
      "using the following settings:\n",
      "\n",
      "filetypes: ['jpg', 'JPG', 'jpeg', 'JPEG', 'tif', 'png'], include: stickle, exclude: ['side', 'top'], raw_mode: copy, search_mode: dir, unique_mode: path\n",
      "\n",
      "Found image stickle1.JPG - phenopype-project folder 0__stickle1 created\n",
      "dirpath defaulted to file directory - E:\\git_repos\\phenopype\\tutorials\\images\n",
      "Directory to save files set at - E:\\git_repos\\phenopype\\tutorials\\images\n",
      "no meta-data found\n",
      "Found image stickle2.JPG - phenopype-project folder 0__stickle2 created\n",
      "dirpath defaulted to file directory - E:\\git_repos\\phenopype\\tutorials\\images\n",
      "Directory to save files set at - E:\\git_repos\\phenopype\\tutorials\\images\n",
      "no meta-data found\n",
      "Found image stickle3.JPG - phenopype-project folder 0__stickle3 created\n",
      "dirpath defaulted to file directory - E:\\git_repos\\phenopype\\tutorials\\images\n",
      "Directory to save files set at - E:\\git_repos\\phenopype\\tutorials\\images\n",
      "no meta-data found\n",
      "\n",
      "Found 3 files\n",
      "--------------------------------------------\n",
      "pype config generated from ex5_2.\n",
      "pype_v1.yaml created for 0__stickle1\n",
      "pype_v1.yaml created for 0__stickle2\n",
      "pype_v1.yaml created for 0__stickle3\n",
      "- scale template saved under E:\\git_repos\\phenopype\\_temp\\output\\ex5_project2\\scale_template.jpg.\n",
      "- measure pixel-to-mm-ratio\n",
      "Scale set\n",
      "- add column length\n",
      "Template selected\n",
      "added scale information to 0__stickle1\n",
      "added scale information to 0__stickle2\n",
      "added scale information to 0__stickle3\n",
      "Project data saved under E:\\git_repos\\phenopype\\_temp\\output\\ex5_project2\\project.data.\n"
     ]
    }
   ],
   "source": [
    "ex5_2 = pp.project(root_dir=project_root)\n",
    "ex5_2.add_files(image_dir=image_dir, include=\"stickle\", exclude=[\"side\",\"top\"])\n",
    "ex5_2.add_config(name = \"v1\", config_preset=\"ex5_2\")\n",
    "ex5_2.add_scale(reference_image = reference_image, overwrite=True)\n",
    "pp.project.save(ex5_2)"
   ]
  },
  {
   "cell_type": "markdown",
   "metadata": {},
   "source": [
    "Use this to load a previously saved projec:"
   ]
  },
  {
   "cell_type": "code",
   "execution_count": 2,
   "metadata": {},
   "outputs": [
    {
     "name": "stdout",
     "output_type": "stream",
     "text": [
      "--------------------------------------------\n",
      "Project loaded from \n",
      "E:\\git_repos\\phenopype\\_temp\\output\\ex5_project2\n",
      "--------------------------------------------\n"
     ]
    }
   ],
   "source": [
    "ex5_2 = pp.project.load(project_root)"
   ]
  },
  {
   "cell_type": "code",
   "execution_count": 3,
   "metadata": {},
   "outputs": [
    {
     "name": "stdout",
     "output_type": "stream",
     "text": [
      "E:\\git_repos\\phenopype\\_temp\\output\\ex5_project2\\data\\0__stickle1\\pype_config_v1.yaml\n",
      "\n",
      "\n",
      "------------+++ new pype iteration 2020:07:03 10:04:53 +++--------------\n",
      "\n",
      "\n",
      "AUTOLOAD\n",
      "- columns ID from attributes.yaml\n",
      "- template scale information loaded from attributes.yaml\n",
      "- current scale information loaded from attributes.yaml\n",
      "- template loaded from root directory\n",
      "- masks_v1.csv\n",
      "PREPROCESSING\n",
      "create_mask\n",
      "- mask with label mask1 already created (overwrite=False)\n",
      "find_scale\n",
      "- scale already detected (overwrite=False)\n",
      "enter_data\n",
      "- column ID already created (overwrite=False)\n",
      "SEGMENTATION\n",
      "blur\n",
      "threshold\n",
      "- include mask \"mask1\" pixels\n",
      "- include mask \"mask1\" pixels\n",
      "- include mask \"mask1\" pixels\n",
      "- include mask \"mask1\" pixels\n",
      "- include mask \"mask1\" pixels\n",
      "- include mask \"mask1\" pixels\n",
      "- exclude mask \"scale\" pixels\n",
      "find_contours\n",
      "VISUALIZATION\n",
      "select_canvas\n",
      "- red channel\n",
      "draw_contours\n",
      "draw_masks\n",
      " - show mask: mask1.\n",
      " - show mask: mask1.\n",
      " - show mask: mask1.\n",
      " - show mask: mask1.\n",
      " - show mask: mask1.\n",
      " - show mask: mask1.\n",
      " - show mask: scale.\n",
      "EXPORT\n",
      "save_contours\n",
      "- contours saved under E:\\git_repos\\phenopype\\_temp\\output\\ex5_project2\\data\\0__stickle1\\contours_v1.csv (overwritten).\n",
      "AUTOSAVE\n",
      "save_canvas\n",
      "- canvas saved under E:\\git_repos\\phenopype\\_temp\\output\\ex5_project2\\data\\0__stickle1\\canvas_v1.jpg (overwritten).\n",
      "save_data_entry\n",
      "- column ID not saved (overwrite=False)\n",
      "save_masks\n",
      "- masks not saved - file already exists (overwrite=False).\n",
      "save_scale\n",
      "- save scale to attributes (overwriting)\n",
      "\n",
      "\n",
      "------------+++ new pype iteration 2020:07:03 10:05:09 +++--------------\n",
      "\n",
      "\n",
      "Nothing loaded.\n",
      "PREPROCESSING\n",
      "create_mask\n",
      "- mask with label mask1 already created (overwrite=False)\n",
      "find_scale\n",
      "- scale already detected (overwrite=False)\n",
      "enter_data\n",
      "- column ID already created (overwrite=False)\n",
      "SEGMENTATION\n",
      "blur\n",
      "threshold\n",
      "- include mask \"mask1\" pixels\n",
      "- include mask \"mask1\" pixels\n",
      "- include mask \"mask1\" pixels\n",
      "- include mask \"mask1\" pixels\n",
      "- include mask \"mask1\" pixels\n",
      "- include mask \"mask1\" pixels\n",
      "- exclude mask \"scale\" pixels\n",
      "find_contours\n",
      "VISUALIZATION\n",
      "select_canvas\n",
      "- red channel\n",
      "draw_contours\n",
      "EXPORT\n",
      "save_contours\n",
      "- contours saved under E:\\git_repos\\phenopype\\_temp\\output\\ex5_project2\\data\\0__stickle1\\contours_v1.csv (overwritten).\n",
      "AUTOSAVE\n",
      "save_canvas\n",
      "- canvas saved under E:\\git_repos\\phenopype\\_temp\\output\\ex5_project2\\data\\0__stickle1\\canvas_v1.jpg (overwritten).\n",
      "save_data_entry\n",
      "- column ID not saved (overwrite=False)\n",
      "save_masks\n",
      "- masks not saved - file already exists (overwrite=False).\n",
      "save_scale\n",
      "- save scale to attributes (overwriting)\n",
      "\n",
      "\n",
      "------------+++ new pype iteration 2020:07:03 10:05:19 +++--------------\n",
      "\n",
      "\n",
      "Nothing loaded.\n",
      "PREPROCESSING\n",
      "create_mask\n",
      "- mask with label mask1 already created (overwrite=False)\n",
      "find_scale\n",
      "- scale already detected (overwrite=False)\n",
      "enter_data\n",
      "- column ID already created (overwrite=False)\n",
      "SEGMENTATION\n",
      "blur\n",
      "threshold\n",
      "- include mask \"mask1\" pixels\n",
      "- include mask \"mask1\" pixels\n",
      "- include mask \"mask1\" pixels\n",
      "- include mask \"mask1\" pixels\n",
      "- include mask \"mask1\" pixels\n",
      "- include mask \"mask1\" pixels\n",
      "- exclude mask \"scale\" pixels\n",
      "find_contours\n",
      "VISUALIZATION\n",
      "select_canvas\n",
      "- red channel\n",
      "draw_contours\n",
      "draw_masks\n",
      " - show mask: mask1.\n",
      " - show mask: mask1.\n",
      " - show mask: mask1.\n",
      " - show mask: mask1.\n",
      " - show mask: mask1.\n",
      " - show mask: mask1.\n",
      " - show mask: scale.\n",
      "EXPORT\n",
      "save_contours\n",
      "- contours saved under E:\\git_repos\\phenopype\\_temp\\output\\ex5_project2\\data\\0__stickle1\\contours_v1.csv (overwritten).\n",
      "AUTOSAVE\n",
      "save_canvas\n",
      "- canvas saved under E:\\git_repos\\phenopype\\_temp\\output\\ex5_project2\\data\\0__stickle1\\canvas_v1.jpg (overwritten).\n",
      "save_data_entry\n",
      "- column ID not saved (overwrite=False)\n",
      "save_masks\n",
      "- masks not saved - file already exists (overwrite=False).\n",
      "save_scale\n",
      "- save scale to attributes (overwriting)\n"
     ]
    },
    {
     "ename": "SystemExit",
     "evalue": "\n\nTERMINATE (by user)",
     "output_type": "error",
     "traceback": [
      "An exception has occurred, use %tb to see the full traceback.\n",
      "\u001b[1;31mSystemExit\u001b[0m\u001b[1;31m:\u001b[0m \n\nTERMINATE (by user)\n"
     ]
    },
    {
     "name": "stderr",
     "output_type": "stream",
     "text": [
      "WARNING: To exit: use 'exit', 'quit', or Ctrl-D.\n"
     ]
    }
   ],
   "source": [
    "for dirpath in ex5_2.dirpaths:\n",
    "    out = pp.pype(dirpath, name=\"v1\", skip=False) "
   ]
  },
  {
   "cell_type": "markdown",
   "metadata": {},
   "source": [
    "The data containing the size of each contour are now in \"contours_v1.csv\", just as above. Using the \"current_px_mm_ratio\" colum you can calculate size and area in mm, with the first (x-coordinate) value in the \"center\" colum you can order the plates from left to right.  "
   ]
  },
  {
   "cell_type": "code",
   "execution_count": null,
   "metadata": {},
   "outputs": [],
   "source": []
  },
  {
   "cell_type": "code",
   "execution_count": null,
   "metadata": {},
   "outputs": [],
   "source": []
  }
 ],
 "metadata": {
  "kernelspec": {
   "display_name": "Python 3",
   "language": "python",
   "name": "python3"
  },
  "language_info": {
   "codemirror_mode": {
    "name": "ipython",
    "version": 3
   },
   "file_extension": ".py",
   "mimetype": "text/x-python",
   "name": "python",
   "nbconvert_exporter": "python",
   "pygments_lexer": "ipython3",
   "version": "3.7.9"
  }
 },
 "nbformat": 4,
 "nbformat_minor": 4
}
