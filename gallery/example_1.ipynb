{
 "cells": [
  {
   "cell_type": "markdown",
   "metadata": {},
   "source": [
    "# Example 1: Measuring size and pigmentation of isopods  \n",
    "\n",
    "In this example the goal is to measure measure phenotypic distributions of several speciemens of isopods (*Asellus aquaticus*) in one processing step."
   ]
  },
  {
   "cell_type": "markdown",
   "metadata": {},
   "source": [
    "<div style=\"display: flex; flex-direction: row; text-align:left; gap: 10px;\"  class=\"row\">\n",
    "    \n",
    "<div class=\"col-md-6\">\n",
    "    \n",
    "![Before](_figures/ex1_before.jpg)\n",
    "    \n",
    "**Input** - Freshwater isopod, alive, photographed on a white resin-tray from a camera stand. \n",
    "</div>\n",
    "<div class=\"col-md-6\">\n",
    "\n",
    "![After](_figures/ex1_after.jpg)\n",
    "    \n",
    "**Results** - Isopod shape, size and colour are extracted (and size referenced using the reference card) \n",
    "</div>\n",
    "</div>"
   ]
  },
  {
   "cell_type": "markdown",
   "metadata": {},
   "source": [
    "<div class=\"alert alert-block alert-info \">\n",
    "<div class=\"admonition seealso\">\n",
    "<p class=\"admonition-title\" > See also:</p>\n",
    "\n",
    "<ul>\n",
    "<li><a href=\"tutorial_2.ipynb\">Tutorial 2: Interacting with images in phenopype</a></li>\n",
    "<li><a href=\"tutorial_3.ipynb\">Tutorial 3: The phenopype workflows</a></li>\n",
    "<li><a href=\"https://www.phenopype.org/docs/resources/cv/\">On computer vision</a></li>\n",
    "<li><a href=\"https://docs.opencv.org/3.4.9/d9/d61/tutorial_py_morphological_ops.html\">About morphological operations</a></li>\n",
    "</ul>\n",
    "       \n",
    "\n",
    "</div>\n",
    "</div>"
   ]
  },
  {
   "cell_type": "markdown",
   "metadata": {},
   "source": [
    "## Background\n",
    "\n",
    "This was the workflow for a master's project where we quickly needed to measure the phenotypic distribution (pigmentation [as grayscale] and size) before adding multiple batches of live isopods to a predation experiment. We photographed the isopods on a camera stand using a Canon EOS 750d DLSR with a 15-45mm lens and using LED light panels for better illumination.\n",
    "\n",
    "![phenotyping setup](_figures/ex1_camera_stand.jpg)"
   ]
  },
  {
   "cell_type": "markdown",
   "metadata": {},
   "source": [
    "## Preparation"
   ]
  },
  {
   "cell_type": "code",
   "execution_count": null,
   "metadata": {},
   "outputs": [],
   "source": [
    "import phenopype as pp\n",
    "import os\n",
    "import urllib.request\n",
    "\n",
    "name_stub = \"example1\"\n",
    "\n",
    "## create dir, if not existent\n",
    "working_dir = os.path.join(r\"D:\\workspace\\git-repos\\phenopype\\phenopype-gallery\\_temp\", name_stub)\n",
    "if not os.path.isdir(working_dir):\n",
    "    os.makedirs(working_dir)\n",
    "os.chdir(working_dir)\n",
    "\n",
    "## set template name and tag\n",
    "template_name = \"gallery-\" + name_stub + \".yaml\"\n",
    "\n",
    "## download Pype-template from online-repo ...\n",
    "try:\n",
    "    url = \"https://raw.githubusercontent.com/phenopype/phenopype-templates/main/templates/gallery/\" + template_name\n",
    "    urllib.request.urlretrieve(url, template_name)\n",
    "    if os.path.isfile(template_name):\n",
    "        template_path = template_name\n",
    "except:\n",
    "    print(\"could not retrieve template from online repo\")\n",
    "\n",
    "## ... or provide link to downloaded phenopype-templates repo\n",
    "template_repo_path = r\"D:\\workspace\\git-repos\\phenopype\\phenopype-templates\"\n",
    "if os.path.isdir(template_repo_path):\n",
    "    if \"templates\" in os.listdir(template_repo_path):\n",
    "        template_path = os.path.join(template_repo_path, r\"templates\\gallery\", template_name)\n",
    "        \n",
    "## confirm template exists\n",
    "if os.path.isfile(template_path):\n",
    "    print(os.path.abspath(template_path))\n",
    "else:\n",
    "    print(\"something went wrong - could not find template\")"
   ]
  },
  {
   "cell_type": "markdown",
   "metadata": {},
   "source": [
    "## Example project"
   ]
  },
  {
   "cell_type": "code",
   "execution_count": null,
   "metadata": {},
   "outputs": [],
   "source": [
    "proj = pp.Project(\"project\")"
   ]
  },
  {
   "cell_type": "code",
   "execution_count": null,
   "metadata": {},
   "outputs": [],
   "source": [
    "proj.add_files(image_dir = r\"../../gallery/data\", include=\"isopods\")"
   ]
  },
  {
   "cell_type": "code",
   "execution_count": null,
   "metadata": {},
   "outputs": [],
   "source": [
    "proj.add_config(template_path=template_path, tag=\"v1\")"
   ]
  },
  {
   "cell_type": "code",
   "execution_count": null,
   "metadata": {},
   "outputs": [],
   "source": [
    "proj.add_reference(reference_image_path= r\"../../gallery/data/isopods1.jpg\", reference_tag=\"iso-scale\")"
   ]
  },
  {
   "cell_type": "code",
   "execution_count": null,
   "metadata": {},
   "outputs": [],
   "source": [
    "for path in proj.dir_paths:\n",
    "    pp.Pype(path, tag=\"v1\")"
   ]
  },
  {
   "cell_type": "code",
   "execution_count": null,
   "metadata": {},
   "outputs": [],
   "source": []
  }
 ],
 "metadata": {
  "kernelspec": {
   "display_name": "Python 3 (ipykernel)",
   "language": "python",
   "name": "python3"
  },
  "language_info": {
   "codemirror_mode": {
    "name": "ipython",
    "version": 3
   },
   "file_extension": ".py",
   "mimetype": "text/x-python",
   "name": "python",
   "nbconvert_exporter": "python",
   "pygments_lexer": "ipython3",
   "version": "3.7.10"
  }
 },
 "nbformat": 4,
 "nbformat_minor": 2
}
