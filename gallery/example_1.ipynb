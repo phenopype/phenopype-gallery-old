{
 "cells": [
  {
   "cell_type": "markdown",
   "metadata": {},
   "source": [
    "# Example 1: Measuring shape, size and colour of isopods  \n",
    "\n",
    "In this example the goal is to measure measure phenotypic distributions of several speciemens of isopods (*Asellus aquaticus*) in one processing step."
   ]
  },
  {
   "cell_type": "markdown",
   "metadata": {},
   "source": [
    "<div style=\"display: flex; flex-direction: row; text-align:left; gap: 10px;\"  class=\"row\">\n",
    "    \n",
    "<div class=\"col-md-6\">\n",
    "    \n",
    "![Before](_figures/ex1_before.jpg)\n",
    "    \n",
    "**Input** - Freshwater isopod, alive, photographed on a white resin-tray from a camera stand. \n",
    "</div>\n",
    "<div class=\"col-md-6\">\n",
    "\n",
    "![After](_figures/ex1_after.jpg)\n",
    "    \n",
    "**Results** - Isopod shape, size and colour are extracted (and size referenced using the reference card) \n",
    "</div>\n",
    "</div>"
   ]
  },
  {
   "cell_type": "markdown",
   "metadata": {},
   "source": [
    "<div class=\"alert alert-block alert-info \">\n",
    "<div class=\"admonition seealso\">\n",
    "<p class=\"admonition-title\" > See also:</p>\n",
    "\n",
    "<ul>\n",
    "<li><a href=\"tutorial_2.ipynb\">Tutorial 2: Interacting with images in phenopype</a></li>\n",
    "<li><a href=\"tutorial_3.ipynb\">Tutorial 3: The phenopype workflows</a></li>\n",
    "<li><a href=\"https://www.phenopype.org/docs/resources/cv/\">On computer vision</a></li>\n",
    "<li><a href=\"https://docs.opencv.org/3.4.9/d9/d61/tutorial_py_morphological_ops.html\">About morphological operations</a></li>\n",
    "</ul>\n",
    "       \n",
    "\n",
    "</div>\n",
    "</div>"
   ]
  },
  {
   "cell_type": "markdown",
   "metadata": {},
   "source": [
    "## Background\n",
    "\n",
    "This was the workflow for a master's project by Kim Kaltenbach at Eawag (supervised by Moritz Lürig and Blake Matthews), where we quickly needed to measure the phenotypic distribution (pigmentation [as grayscale] and size) before adding multiple batches of live isopods to a predation experiment. We photographed the isopods on a camera stand using a Canon EOS 750d DLSR with a 15-45mm lens and using LED light panels for better illumination.\n",
    "\n",
    "![phenotyping setup](_figures/ex1_camera_stand.jpg)"
   ]
  },
  {
   "cell_type": "markdown",
   "metadata": {},
   "source": [
    "## Preparation"
   ]
  },
  {
   "cell_type": "code",
   "execution_count": 1,
   "metadata": {},
   "outputs": [
    {
     "name": "stdout",
     "output_type": "stream",
     "text": [
      "D:\\workspace\\git-repos\\phenopype\\phenopype-templates\\templates\\gallery\\gallery-example1.yaml\n"
     ]
    }
   ],
   "source": [
    "import phenopype as pp\n",
    "import os\n",
    "import urllib.request\n",
    "\n",
    "## create dir, if not existent\n",
    "working_dir = r\"D:\\workspace\\git-repos\\phenopype\\phenopype-gallery\\_temp\\example1\"\n",
    "if not os.path.isdir(working_dir):\n",
    "    os.makedirs(working_dir)\n",
    "os.chdir(working_dir)\n",
    "\n",
    "## set template name and tag\n",
    "template_name = \"gallery-example1.yaml\"\n",
    "\n",
    "## download Pype-template from online-repo ...\n",
    "url = \"https://raw.githubusercontent.com/phenopype/phenopype-templates/main/templates/gallery/\" + template_name\n",
    "urllib.request.urlretrieve(url, template_name)\n",
    "if os.path.isfile(template_name):\n",
    "    template_path = template_name\n",
    "\n",
    "## ... or provide link to downloaded phenopype-templates repo\n",
    "template_repo_path = r\"D:\\workspace\\git-repos\\phenopype\\phenopype-templates\"\n",
    "if os.path.isdir(template_repo_path):\n",
    "    if \"templates\" in os.listdir(template_repo_path):\n",
    "        template_path = os.path.join(template_repo_path, r\"templates\\gallery\", template_path)\n",
    "        \n",
    "## confirm template exists\n",
    "print(os.path.abspath(template_path))"
   ]
  },
  {
   "cell_type": "markdown",
   "metadata": {},
   "source": [
    "## High throughput workflow"
   ]
  },
  {
   "cell_type": "code",
   "execution_count": 2,
   "metadata": {},
   "outputs": [
    {
     "name": "stdout",
     "output_type": "stream",
     "text": [
      "--------------------------------------------\n",
      "Found existing project root directory - loading from:\n",
      "D:\\workspace\\git-repos\\phenopype\\phenopype-gallery\\_temp\\example1\\project\n",
      "\n",
      "Project \"project\" successfully loaded with 4 images\n",
      "--------------------------------------------\n"
     ]
    }
   ],
   "source": [
    "proj = pp.Project(\"project\")"
   ]
  },
  {
   "cell_type": "code",
   "execution_count": 55,
   "metadata": {},
   "outputs": [
    {
     "name": "stdout",
     "output_type": "stream",
     "text": [
      "--------------------------------------------\n",
      "phenopype will search for image files at\n",
      "\n",
      "D:\\workspace\\git-repos\\phenopype\\phenopype-gallery\\gallery\\data\n",
      "\n",
      "using the following settings:\n",
      "\n",
      "filetypes: ['jpg', 'JPG', 'jpeg', 'JPEG', 'tif', 'png', 'bmp'], include: isopods, exclude: [], mode: copy, recursive: False, resize: False, unique: path\n",
      "\n",
      "Found image isopods1.jpg - phenopype-project folder 0__isopods1 created\n",
      "D:\\workspace\\git-repos\\phenopype\\phenopype-gallery\\gallery\\data\\isopods1.jpg\n",
      "Found image isopods2.jpg - phenopype-project folder 0__isopods2 created\n",
      "D:\\workspace\\git-repos\\phenopype\\phenopype-gallery\\gallery\\data\\isopods2.jpg\n",
      "Found image isopods3.jpg - phenopype-project folder 0__isopods3 created\n",
      "D:\\workspace\\git-repos\\phenopype\\phenopype-gallery\\gallery\\data\\isopods3.jpg\n",
      "Found image isopods4.jpg - phenopype-project folder 0__isopods4 created\n",
      "D:\\workspace\\git-repos\\phenopype\\phenopype-gallery\\gallery\\data\\isopods4.jpg\n",
      "\n",
      "Found 4 files\n",
      "--------------------------------------------\n"
     ]
    }
   ],
   "source": [
    "proj.add_files(image_dir = r\"../../gallery/data\", include=\"isopods\")"
   ]
  },
  {
   "cell_type": "code",
   "execution_count": 56,
   "metadata": {},
   "outputs": [
    {
     "name": "stdout",
     "output_type": "stream",
     "text": [
      "- template saved under D:\\workspace\\git-repos\\phenopype\\phenopype-gallery\\_temp\\example1\\project\\data\\0__isopods1\\pype_config_v1.yaml\n",
      "- template saved under D:\\workspace\\git-repos\\phenopype\\phenopype-gallery\\_temp\\example1\\project\\data\\0__isopods2\\pype_config_v1.yaml\n",
      "- template saved under D:\\workspace\\git-repos\\phenopype\\phenopype-gallery\\_temp\\example1\\project\\data\\0__isopods3\\pype_config_v1.yaml\n",
      "- template saved under D:\\workspace\\git-repos\\phenopype\\phenopype-gallery\\_temp\\example1\\project\\data\\0__isopods4\\pype_config_v1.yaml\n"
     ]
    }
   ],
   "source": [
    "proj.add_config(template_path=template_path, tag=\"v1\")"
   ]
  },
  {
   "cell_type": "code",
   "execution_count": 60,
   "metadata": {},
   "outputs": [
    {
     "name": "stdout",
     "output_type": "stream",
     "text": [
      "Reference set\n",
      "already two points selected\n",
      "Reference image saved under D:\\workspace\\git-repos\\phenopype\\phenopype-gallery\\_temp\\example1\\project\\reference\\iso-scale_full_image.tif\n",
      "Reference image saved under D:\\workspace\\git-repos\\phenopype\\phenopype-gallery\\_temp\\example1\\project\\reference\\iso-scale_search_template.tif\n",
      "Saved reference info to project attributes.\n",
      "setting active global project reference to \"iso-scale\" for 0__isopods1 (active=True)\n",
      "setting active global project reference to \"iso-scale\" for 0__isopods2 (active=True)\n",
      "setting active global project reference to \"iso-scale\" for 0__isopods3 (active=True)\n",
      "setting active global project reference to \"iso-scale\" for 0__isopods4 (active=True)\n"
     ]
    }
   ],
   "source": [
    "proj.add_reference(reference_image_path= r\"../../gallery/data/isopods1.jpg\", reference_tag=\"iso-scale\")"
   ]
  },
  {
   "cell_type": "code",
   "execution_count": 5,
   "metadata": {},
   "outputs": [
    {
     "name": "stdout",
     "output_type": "stream",
     "text": [
      "Format path to abspath\n",
      "- no annotation_type selected - returning all annotations\n",
      "\n",
      "AUTOLOAD\n",
      "- annotations loaded:\n",
      "{\n",
      "\"mask\": [\"a\"],\n",
      "\"reference\": [\"a\"],\n",
      "\"contour\": [\"a\", \"b\"],\n",
      "\"shape_features\": [\"a\"],\n",
      "\"texture_features\": [\"a\"],\n",
      "\"drawing\": [\"a\"]\n",
      "}\n",
      "- reference template image loaded from root directory\n",
      "\n",
      "\n",
      "------------+++ new pype iteration 2022:01:12 19:01:07 +++--------------\n",
      "\n",
      "\n",
      "\n",
      "\n",
      "PREPROCESSING\n",
      "create_mask\n",
      "- loaded existing annotation of type \"mask\" with ID \"a\": skipping (edit=False)\n",
      "detect_reference\n",
      "- loaded existing annotation of type \"reference\" with ID \"a\": skipping (edit=False)\n",
      "blur\n",
      "\n",
      "\n",
      "SEGMENTATION\n",
      "threshold\n",
      "- decompose image: using green channel\n",
      "- including pixels from 1 drawn masks \n",
      "- excluding pixels from reference\n",
      "morphology\n",
      "detect_contour\n",
      "- loaded existing annotation of type \"contour\" with ID \"a\": overwriting (edit=overwrite)\n",
      "- found 22 contours that match criteria\n",
      "edit_contour\n",
      "- loaded existing annotation of type \"drawing\" with ID \"a\": skipping (edit=False)\n",
      "detect_contour\n",
      "- loaded existing annotation of type \"contour\" with ID \"b\": overwriting (edit=overwrite)\n",
      "- found 607 contours that match criteria\n",
      "\n",
      "\n",
      "VISUALIZATION\n",
      "select_canvas\n",
      "- raw image\n",
      "draw_contour\n",
      "draw_mask\n",
      "draw_reference\n",
      "\n",
      "\n",
      "EXPORT\n",
      "save_canvas\n",
      "- image saved under D:\\workspace\\git-repos\\phenopype\\phenopype-gallery\\_temp\\example1\\project\\data\\0__isopods1\\canvas_v1.jpg (overwritten).\n",
      "save_annotation\n",
      "- loading existing annotation file\n",
      "- updating annotation of type \"mask\" with id \"a\" in \"annotations_v1.json\" (overwrite=\"entry\")\n",
      "- updating annotation of type \"reference\" with id \"a\" in \"annotations_v1.json\" (overwrite=\"entry\")\n",
      "- updating annotation of type \"contour\" with id \"a\" in \"annotations_v1.json\" (overwrite=\"entry\")\n",
      "- updating annotation of type \"contour\" with id \"b\" in \"annotations_v1.json\" (overwrite=\"entry\")\n",
      "- updating annotation of type \"shape_features\" with id \"a\" in \"annotations_v1.json\" (overwrite=\"entry\")\n",
      "- updating annotation of type \"texture_features\" with id \"a\" in \"annotations_v1.json\" (overwrite=\"entry\")\n",
      "- updating annotation of type \"drawing\" with id \"a\" in \"annotations_v1.json\" (overwrite=\"entry\")\n",
      "\n",
      "\n",
      "------------+++ finished pype iteration +++--------------\n",
      "-------(End with Ctrl+Enter or re-run with Enter)--------\n",
      "\n",
      "\n",
      "AUTOSHOW\n",
      "- STILL UPDATING CONFIG (no content)\n",
      "\n",
      "\n",
      "------------+++ new pype iteration 2022:01:12 19:01:18 +++--------------\n",
      "\n",
      "\n",
      "\n",
      "\n",
      "PREPROCESSING\n",
      "create_mask\n",
      "- loaded existing annotation of type \"mask\" with ID \"a\": skipping (edit=False)\n",
      "detect_reference\n",
      "- loaded existing annotation of type \"reference\" with ID \"a\": skipping (edit=False)\n",
      "blur\n",
      "\n",
      "\n",
      "SEGMENTATION\n",
      "threshold\n",
      "- decompose image: using green channel\n",
      "- including pixels from 1 drawn masks \n",
      "- excluding pixels from reference\n",
      "morphology\n",
      "detect_contour\n",
      "- loaded existing annotation of type \"contour\" with ID \"a\": overwriting (edit=overwrite)\n",
      "- found 22 contours that match criteria\n",
      "edit_contour\n",
      "- loaded existing annotation of type \"drawing\" with ID \"a\": skipping (edit=False)\n",
      "detect_contour\n",
      "- loaded existing annotation of type \"contour\" with ID \"b\": overwriting (edit=overwrite)\n",
      "- found 20 contours that match criteria\n",
      "\n",
      "\n",
      "VISUALIZATION\n",
      "select_canvas\n",
      "- raw image\n",
      "draw_contour\n",
      "draw_mask\n",
      "draw_reference\n",
      "\n",
      "\n",
      "EXPORT\n",
      "save_canvas\n",
      "- image saved under D:\\workspace\\git-repos\\phenopype\\phenopype-gallery\\_temp\\example1\\project\\data\\0__isopods1\\canvas_v1.jpg (overwritten).\n",
      "save_annotation\n",
      "- loading existing annotation file\n",
      "- updating annotation of type \"mask\" with id \"a\" in \"annotations_v1.json\" (overwrite=\"entry\")\n",
      "- updating annotation of type \"reference\" with id \"a\" in \"annotations_v1.json\" (overwrite=\"entry\")\n",
      "- updating annotation of type \"contour\" with id \"a\" in \"annotations_v1.json\" (overwrite=\"entry\")\n",
      "- updating annotation of type \"contour\" with id \"b\" in \"annotations_v1.json\" (overwrite=\"entry\")\n",
      "- updating annotation of type \"shape_features\" with id \"a\" in \"annotations_v1.json\" (overwrite=\"entry\")\n",
      "- updating annotation of type \"texture_features\" with id \"a\" in \"annotations_v1.json\" (overwrite=\"entry\")\n",
      "- updating annotation of type \"drawing\" with id \"a\" in \"annotations_v1.json\" (overwrite=\"entry\")\n",
      "\n",
      "\n",
      "------------+++ finished pype iteration +++--------------\n",
      "-------(End with Ctrl+Enter or re-run with Enter)--------\n",
      "\n",
      "\n",
      "AUTOSHOW\n",
      "- STILL UPDATING CONFIG (no content)\n",
      "\n",
      "\n",
      "------------+++ new pype iteration 2022:01:12 19:01:32 +++--------------\n",
      "\n",
      "\n",
      "\n",
      "\n",
      "PREPROCESSING\n",
      "create_mask\n",
      "- loaded existing annotation of type \"mask\" with ID \"a\": skipping (edit=False)\n",
      "detect_reference\n",
      "- loaded existing annotation of type \"reference\" with ID \"a\": skipping (edit=False)\n",
      "blur\n",
      "\n",
      "\n",
      "SEGMENTATION\n",
      "threshold\n",
      "- decompose image: using green channel\n",
      "- including pixels from 1 drawn masks \n",
      "- excluding pixels from reference\n",
      "morphology\n",
      "detect_contour\n",
      "- loaded existing annotation of type \"contour\" with ID \"a\": overwriting (edit=overwrite)\n",
      "- found 22 contours that match criteria\n",
      "edit_contour\n",
      "- loaded existing annotation of type \"drawing\" with ID \"a\": skipping (edit=False)\n",
      "detect_contour\n",
      "- loaded existing annotation of type \"contour\" with ID \"b\": overwriting (edit=overwrite)\n",
      "- found 20 contours that match criteria\n",
      "\n",
      "\n",
      "VISUALIZATION\n",
      "select_canvas\n",
      "- raw image\n",
      "draw_contour\n",
      "draw_mask\n",
      "draw_reference\n",
      "\n",
      "\n",
      "EXPORT\n",
      "save_canvas\n",
      "- image saved under D:\\workspace\\git-repos\\phenopype\\phenopype-gallery\\_temp\\example1\\project\\data\\0__isopods1\\canvas_v1.jpg (overwritten).\n",
      "save_annotation\n",
      "- loading existing annotation file\n",
      "- updating annotation of type \"mask\" with id \"a\" in \"annotations_v1.json\" (overwrite=\"entry\")\n",
      "- updating annotation of type \"reference\" with id \"a\" in \"annotations_v1.json\" (overwrite=\"entry\")\n",
      "- updating annotation of type \"contour\" with id \"a\" in \"annotations_v1.json\" (overwrite=\"entry\")\n",
      "- updating annotation of type \"contour\" with id \"b\" in \"annotations_v1.json\" (overwrite=\"entry\")\n",
      "- updating annotation of type \"shape_features\" with id \"a\" in \"annotations_v1.json\" (overwrite=\"entry\")\n",
      "- updating annotation of type \"texture_features\" with id \"a\" in \"annotations_v1.json\" (overwrite=\"entry\")\n",
      "- updating annotation of type \"drawing\" with id \"a\" in \"annotations_v1.json\" (overwrite=\"entry\")\n",
      "\n",
      "\n",
      "------------+++ finished pype iteration +++--------------\n",
      "-------(End with Ctrl+Enter or re-run with Enter)--------\n",
      "\n",
      "\n",
      "AUTOSHOW\n",
      "\n",
      "\n",
      "------------+++ new pype iteration 2022:01:12 19:01:40 +++--------------\n",
      "\n",
      "\n",
      "\n",
      "\n",
      "PREPROCESSING\n",
      "create_mask\n",
      "- loaded existing annotation of type \"mask\" with ID \"a\": skipping (edit=False)\n",
      "detect_reference\n",
      "- loaded existing annotation of type \"reference\" with ID \"a\": skipping (edit=False)\n",
      "blur\n",
      "\n",
      "\n",
      "SEGMENTATION\n",
      "threshold\n",
      "- decompose image: using green channel\n",
      "- including pixels from 1 drawn masks \n",
      "- excluding pixels from reference\n",
      "morphology\n",
      "detect_contour\n",
      "- loaded existing annotation of type \"contour\" with ID \"a\": overwriting (edit=overwrite)\n",
      "- found 22 contours that match criteria\n",
      "edit_contour\n",
      "- loaded existing annotation of type \"drawing\" with ID \"a\": skipping (edit=False)\n",
      "detect_contour\n",
      "- loaded existing annotation of type \"contour\" with ID \"b\": overwriting (edit=overwrite)\n",
      "- found 20 contours that match criteria\n",
      "\n",
      "\n",
      "MEASUREMENT\n",
      "compute_shape_features\n",
      "- loaded existing annotation of type \"shape_features\" with ID \"a\": overwriting (edit=overwrite)\n",
      "compute_texture_features\n",
      "- loaded existing annotation of type \"texture_features\" with ID \"a\": overwriting (edit=overwrite)\n",
      "- decompose image: using gray channel\n"
     ]
    },
    {
     "name": "stderr",
     "output_type": "stream",
     "text": [
      "Processing gray channel texture features: 100%|████████████████████████████████████████| 20/20 [00:00<00:00, 83.42it/s]\n"
     ]
    },
    {
     "name": "stdout",
     "output_type": "stream",
     "text": [
      "\n",
      "\n",
      "VISUALIZATION\n",
      "select_canvas\n",
      "- raw image\n",
      "draw_contour\n",
      "draw_mask\n",
      "draw_reference\n",
      "\n",
      "\n",
      "EXPORT\n",
      "save_canvas\n",
      "- image saved under D:\\workspace\\git-repos\\phenopype\\phenopype-gallery\\_temp\\example1\\project\\data\\0__isopods1\\canvas_v1.jpg (overwritten).\n",
      "save_annotation\n",
      "- loading existing annotation file\n",
      "- updating annotation of type \"mask\" with id \"a\" in \"annotations_v1.json\" (overwrite=\"entry\")\n",
      "- updating annotation of type \"reference\" with id \"a\" in \"annotations_v1.json\" (overwrite=\"entry\")\n",
      "- updating annotation of type \"contour\" with id \"a\" in \"annotations_v1.json\" (overwrite=\"entry\")\n",
      "- updating annotation of type \"contour\" with id \"b\" in \"annotations_v1.json\" (overwrite=\"entry\")\n",
      "- updating annotation of type \"shape_features\" with id \"a\" in \"annotations_v1.json\" (overwrite=\"entry\")\n",
      "- updating annotation of type \"texture_features\" with id \"a\" in \"annotations_v1.json\" (overwrite=\"entry\")\n",
      "- updating annotation of type \"drawing\" with id \"a\" in \"annotations_v1.json\" (overwrite=\"entry\")\n",
      "\n",
      "\n",
      "------------+++ finished pype iteration +++--------------\n",
      "-------(End with Ctrl+Enter or re-run with Enter)--------\n",
      "\n",
      "\n",
      "AUTOSHOW\n",
      "\n",
      "\n",
      "TERMINATE\n",
      "\n",
      "AUTOSAVE\n",
      "- nothing to autosave\n",
      "Format path to abspath\n",
      "\n",
      "AUTOLOAD\n",
      "- reference template image loaded from root directory\n",
      "updating pype config file\n",
      "\n",
      "\n",
      "------------+++ new pype iteration 2022:01:12 19:01:47 +++--------------\n",
      "\n",
      "\n",
      "\n",
      "\n",
      "PREPROCESSING\n",
      "create_mask\n"
     ]
    },
    {
     "ename": "SystemExit",
     "evalue": "\n\nTERMINATE (by user)",
     "output_type": "error",
     "traceback": [
      "An exception has occurred, use %tb to see the full traceback.\n",
      "\u001b[1;31mSystemExit\u001b[0m\u001b[1;31m:\u001b[0m \n\nTERMINATE (by user)\n"
     ]
    },
    {
     "name": "stderr",
     "output_type": "stream",
     "text": [
      "C:\\Anaconda3\\envs\\pp_dev\\lib\\site-packages\\IPython\\core\\interactiveshell.py:3452: UserWarning: To exit: use 'exit', 'quit', or Ctrl-D.\n",
      "  warn(\"To exit: use 'exit', 'quit', or Ctrl-D.\", stacklevel=1)\n"
     ]
    }
   ],
   "source": [
    "for path in proj.dir_paths:\n",
    "    pp.Pype(path, tag=\"v1\")"
   ]
  },
  {
   "cell_type": "code",
   "execution_count": null,
   "metadata": {},
   "outputs": [],
   "source": []
  }
 ],
 "metadata": {
  "kernelspec": {
   "display_name": "Python 3 (ipykernel)",
   "language": "python",
   "name": "python3"
  },
  "language_info": {
   "codemirror_mode": {
    "name": "ipython",
    "version": 3
   },
   "file_extension": ".py",
   "mimetype": "text/x-python",
   "name": "python",
   "nbconvert_exporter": "python",
   "pygments_lexer": "ipython3",
   "version": "3.7.10"
  }
 },
 "nbformat": 4,
 "nbformat_minor": 2
}
