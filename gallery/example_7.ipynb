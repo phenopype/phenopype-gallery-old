{
 "cells": [
  {
   "cell_type": "markdown",
   "metadata": {},
   "source": [
    "# Example 7: Measuring worm length\n",
    "\n",
    "In this example the length of california blackworms (*Lumbriculus variegatus*) is measured in 6 well plates, which are detected automatically with the Hough Transform algorithm in `detect_shape`."
   ]
  },
  {
   "cell_type": "markdown",
   "metadata": {},
   "source": [
    "<div style=\"display: flex; flex-direction: row; text-align:left; gap: 10px;\"  class=\"row\">\n",
    "    \n",
    "<div class=\"col-md-6\" style=\"flex: 1 1 0px;\">\n",
    "    \n",
    "![Before](_figures/ex7_before.jpg)\n",
    "    \n",
    "**Input** - Worms placed in 6 well plates\n",
    "    \n",
    "</div>\n",
    "<div class=\"col-md-6\" style=\"flex: 1 1 0px;\">\n",
    "\n",
    "![After](_figures/ex7_after.jpg)\n",
    "    \n",
    "**Results** - extracted body contour (green area) and body length (red line) as a topological skeleton\n",
    "</div>\n",
    "</div>\n"
   ]
  },
  {
   "cell_type": "markdown",
   "metadata": {},
   "source": [
    "## Background\n",
    "\n",
    "Body length is a commonly measured trait. However, live animals are typically not well behaved in front of camera: typically the body is not aligned straight, which makes length measure difficult and sometimes time consuming. Some computer vision can help here, such as skeletonization (https://en.wikipedia.org/wiki/Topological_skeleton) for an acurate semi automatic approach, and polyline drawing for a less acurate, manual aproach.\n",
    "\n",
    "[Hough transformation](https://en.wikipedia.org/wiki/Hough_transform)\n"
   ]
  },
  {
   "cell_type": "code",
   "execution_count": null,
   "metadata": {},
   "outputs": [],
   "source": []
  }
 ],
 "metadata": {
  "kernelspec": {
   "display_name": "Python 3 (ipykernel)",
   "language": "python",
   "name": "python3"
  },
  "language_info": {
   "codemirror_mode": {
    "name": "ipython",
    "version": 3
   },
   "file_extension": ".py",
   "mimetype": "text/x-python",
   "name": "python",
   "nbconvert_exporter": "python",
   "pygments_lexer": "ipython3",
   "version": "3.7.10"
  }
 },
 "nbformat": 4,
 "nbformat_minor": 4
}
