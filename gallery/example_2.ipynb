{
 "cells": [
  {
   "cell_type": "markdown",
   "metadata": {},
   "source": [
    "# Example 2: Stickleback morphometrics - landmarks\n",
    "\n",
    "Functional morphology of organisms is often measured by placing landmarks at specific points that show structural, functional or developmental significance. In this example phenopype is used to place morphometric landmarks across the anterior half of a stickleback (*Gasterosteus aculeatus*) stained with alizarin red.\n",
    "\n",
    "First we place landmarks in low throughput mode to learn how the landmark-function works, then we look at a high throughput landkmark example with a project directory and a global scale. "
   ]
  },
  {
   "cell_type": "markdown",
   "metadata": {},
   "source": [
    "<div class=\"row; text-align: left\">\n",
    "    \n",
    "<div class=\"col-md-6\">\n",
    "<img src=\"_figures/ex2_before.jpg\">\n",
    "\n",
    "**Input** - Stained threespine stickleback, photographed in a glycerol bath from a camera stand\n",
    "</div>\n",
    "<div class=\"col-md-6\">\n",
    "<img src=\"_figures/ex2_after.jpg\">\n",
    "\n",
    "**Results** - 22 landmarks are placed using the `landmark` tool from the `phenopype.measurements` module\n",
    "</div>\n",
    "</div>\n"
   ]
  },
  {
   "cell_type": "markdown",
   "metadata": {},
   "source": [
    "## Preparation "
   ]
  },
  {
   "cell_type": "code",
   "execution_count": 1,
   "metadata": {},
   "outputs": [
    {
     "name": "stdout",
     "output_type": "stream",
     "text": [
      "could not retrieve template from online repo\n",
      "D:\\workspace\\git-repos\\phenopype\\phenopype-templates\\templates\\gallery\\gallery-example2.yaml\n"
     ]
    }
   ],
   "source": [
    "import phenopype as pp\n",
    "import os\n",
    "import urllib.request\n",
    "\n",
    "name_stub = \"example2\"\n",
    "\n",
    "## create dir, if not existent\n",
    "working_dir = os.path.join(r\"D:\\workspace\\git-repos\\phenopype\\phenopype-gallery\\_temp\", name_stub)\n",
    "if not os.path.isdir(working_dir):\n",
    "    os.makedirs(working_dir)\n",
    "os.chdir(working_dir)\n",
    "\n",
    "## set template name and tag\n",
    "template_name = \"gallery-\" + name_stub + \".yaml\"\n",
    "\n",
    "## download Pype-template from online-repo ...\n",
    "try:\n",
    "    url = \"https://raw.githubusercontent.com/phenopype/phenopype-templates/main/templates/gallery/\" + template_name\n",
    "    urllib.request.urlretrieve(url, template_name)\n",
    "    if os.path.isfile(template_name):\n",
    "        template_path = template_name\n",
    "except:\n",
    "    print(\"could not retrieve template from online repo\")\n",
    "\n",
    "## ... or provide link to downloaded phenopype-templates repo\n",
    "template_repo_path = r\"D:\\workspace\\git-repos\\phenopype\\phenopype-templates\"\n",
    "if os.path.isdir(template_repo_path):\n",
    "    if \"templates\" in os.listdir(template_repo_path):\n",
    "        template_path = os.path.join(template_repo_path, r\"templates\\gallery\", template_name)\n",
    "        \n",
    "## confirm template exists\n",
    "if os.path.isfile(template_path):\n",
    "    print(os.path.abspath(template_path))\n",
    "else:\n",
    "    print(\"something went wrong - could not find template\")"
   ]
  },
  {
   "cell_type": "code",
   "execution_count": 2,
   "metadata": {},
   "outputs": [
    {
     "name": "stdout",
     "output_type": "stream",
     "text": [
      "--------------------------------------------\n",
      "Found existing project root directory - loading from:\n",
      "D:\\workspace\\git-repos\\phenopype\\phenopype-gallery\\_temp\\example2\\project\n",
      "\n",
      "Project \"project\" successfully loaded with 3 images\n",
      "--------------------------------------------\n"
     ]
    }
   ],
   "source": [
    "proj = pp.Project(\"project\")"
   ]
  },
  {
   "cell_type": "code",
   "execution_count": 11,
   "metadata": {},
   "outputs": [
    {
     "name": "stdout",
     "output_type": "stream",
     "text": [
      "--------------------------------------------\n",
      "phenopype will search for image files at\n",
      "\n",
      "D:\\workspace\\git-repos\\phenopype\\phenopype-gallery\\gallery\\data\n",
      "\n",
      "using the following settings:\n",
      "\n",
      "filetypes: ['jpg', 'JPG', 'jpeg', 'JPEG', 'tif', 'png', 'bmp'], include: stickle, exclude: ['side', 'top'], mode: copy, recursive: False, resize: False, unique: path\n",
      "\n",
      "Found image stickle1.jpg - phenopype-project folder 0__stickle1 created\n",
      "D:\\workspace\\git-repos\\phenopype\\phenopype-gallery\\gallery\\data\\stickle1.jpg\n",
      "Found image stickle2.jpg - phenopype-project folder 0__stickle2 created\n",
      "D:\\workspace\\git-repos\\phenopype\\phenopype-gallery\\gallery\\data\\stickle2.jpg\n",
      "Found image stickle3.jpg - phenopype-project folder 0__stickle3 created\n",
      "D:\\workspace\\git-repos\\phenopype\\phenopype-gallery\\gallery\\data\\stickle3.jpg\n",
      "\n",
      "Found 3 files\n",
      "--------------------------------------------\n"
     ]
    }
   ],
   "source": [
    "proj.add_files(image_dir = r\"../../gallery/data\", include=\"stickle\", exclude=[\"side\",\"top\"])"
   ]
  },
  {
   "cell_type": "code",
   "execution_count": 12,
   "metadata": {},
   "outputs": [
    {
     "name": "stdout",
     "output_type": "stream",
     "text": [
      "- template saved under D:\\workspace\\git-repos\\phenopype\\phenopype-gallery\\_temp\\example2\\project\\data\\0__stickle1\\pype_config_v1.yaml\n",
      "- template saved under D:\\workspace\\git-repos\\phenopype\\phenopype-gallery\\_temp\\example2\\project\\data\\0__stickle2\\pype_config_v1.yaml\n",
      "- template saved under D:\\workspace\\git-repos\\phenopype\\phenopype-gallery\\_temp\\example2\\project\\data\\0__stickle3\\pype_config_v1.yaml\n"
     ]
    }
   ],
   "source": [
    "proj.add_config(template_path=template_path, tag=\"v1\")"
   ]
  },
  {
   "cell_type": "code",
   "execution_count": 13,
   "metadata": {},
   "outputs": [
    {
     "name": "stdout",
     "output_type": "stream",
     "text": [
      "Reference set\n",
      "already two points selected\n",
      "Reference image saved under D:\\workspace\\git-repos\\phenopype\\phenopype-gallery\\_temp\\example2\\project\\reference\\stickle-scale_full_image.tif\n",
      "Reference image saved under D:\\workspace\\git-repos\\phenopype\\phenopype-gallery\\_temp\\example2\\project\\reference\\stickle-scale_search_template.tif\n",
      "Saved reference info to project attributes.\n",
      "setting active global project reference to \"stickle-scale\" for 0__stickle1 (active=True)\n",
      "setting active global project reference to \"stickle-scale\" for 0__stickle2 (active=True)\n",
      "setting active global project reference to \"stickle-scale\" for 0__stickle3 (active=True)\n"
     ]
    }
   ],
   "source": [
    "proj.add_reference(reference_image_path= r\"../../gallery/data/stickleback_side.jpg\", reference_tag=\"stickle-scale\")"
   ]
  },
  {
   "cell_type": "code",
   "execution_count": 3,
   "metadata": {},
   "outputs": [
    {
     "name": "stdout",
     "output_type": "stream",
     "text": [
      "Format path to abspath\n",
      "- no annotation_type selected - returning all annotations\n",
      "\n",
      "AUTOLOAD\n",
      "- annotations loaded:\n",
      "{\n",
      "\"reference\": [\"a\"],\n",
      "\"comment\": [\"a\"],\n",
      "\"landmark\": [\"a\"]\n",
      "}\n",
      "- reference template image loaded from root directory\n",
      "\n",
      "\n",
      "------------+++ new pype iteration 2022:01:12 20:33:04 +++--------------\n",
      "\n",
      "\n",
      "\n",
      "\n",
      "PREPROCESSING\n",
      "detect_reference\n",
      "- loaded existing annotation of type \"reference\" with ID \"a\": skipping (edit=False)\n",
      "write_comment\n",
      "- loaded existing annotation of type \"comment\" with ID \"a\": skipping (edit=False)\n",
      "\n",
      "\n",
      "MEASUREMENT\n",
      "set_landmark\n",
      "- loaded existing annotation of type \"landmark\" with ID \"a\": skipping (edit=False)\n",
      "\n",
      "\n",
      "VISUALIZATION\n",
      "draw_landmark\n",
      "draw_reference\n",
      "\n",
      "\n",
      "EXPORT\n",
      "save_annotation\n",
      "- loading existing annotation file\n",
      "- annotation of type \"reference\" with id \"a\" already exists in \"annotations_v1.json\" (overwrite=False)\n",
      "- annotation of type \"comment\" with id \"a\" already exists in \"annotations_v1.json\" (overwrite=False)\n",
      "- annotation of type \"landmark\" with id \"a\" already exists in \"annotations_v1.json\" (overwrite=False)\n",
      "\n",
      "\n",
      "------------+++ finished pype iteration +++--------------\n",
      "-------(End with Ctrl+Enter or re-run with Enter)--------\n",
      "\n",
      "\n",
      "AUTOSHOW\n",
      "\n",
      "\n",
      "TERMINATE\n",
      "\n",
      "AUTOSAVE\n",
      "- save_canvas\n",
      "- image saved under D:\\workspace\\git-repos\\phenopype\\phenopype-gallery\\_temp\\example2\\project\\data\\0__stickle1\\canvas_v1.jpg (overwritten).\n",
      "Format path to abspath\n",
      "- no annotation_type selected - returning all annotations\n",
      "\n",
      "AUTOLOAD\n",
      "- annotations loaded:\n",
      "{\n",
      "\"reference\": [\"a\"],\n",
      "\"comment\": [\"a\"]\n",
      "}\n",
      "- reference template image loaded from root directory\n",
      "Fixed method name\n",
      "Fixed method name\n",
      "updating pype config file\n",
      "\n",
      "\n",
      "------------+++ new pype iteration 2022:01:12 20:33:13 +++--------------\n",
      "\n",
      "\n",
      "\n",
      "\n",
      "PREPROCESSING\n",
      "detect_reference\n",
      "- loaded existing annotation of type \"reference\" with ID \"a\": skipping (edit=False)\n",
      "write_comment\n",
      "- loaded existing annotation of type \"comment\" with ID \"a\": skipping (edit=False)\n",
      "\n",
      "\n",
      "MEASUREMENT\n",
      "set_landmark\n",
      "\n",
      "\n",
      "VISUALIZATION\n",
      "draw_landmark\n",
      "draw_reference\n",
      "\n",
      "\n",
      "EXPORT\n",
      "save_annotation\n",
      "- loading existing annotation file\n",
      "- annotation of type \"reference\" with id \"a\" already exists in \"annotations_v1.json\" (overwrite=False)\n",
      "- annotation of type \"comment\" with id \"a\" already exists in \"annotations_v1.json\" (overwrite=False)\n",
      "- writing annotation of type \"landmark\" with id \"a\" to \"annotations_v1.json\"\n",
      "\n",
      "\n",
      "------------+++ finished pype iteration +++--------------\n",
      "-------(End with Ctrl+Enter or re-run with Enter)--------\n",
      "\n",
      "\n",
      "AUTOSHOW\n",
      "\n",
      "\n",
      "TERMINATE\n",
      "\n",
      "AUTOSAVE\n",
      "- save_canvas\n",
      "- image saved under D:\\workspace\\git-repos\\phenopype\\phenopype-gallery\\_temp\\example2\\project\\data\\0__stickle2\\canvas_v1.jpg.\n",
      "Format path to abspath\n",
      "\n",
      "AUTOLOAD\n",
      "- reference template image loaded from root directory\n",
      "Fixed method name\n",
      "Fixed method name\n",
      "updating pype config file\n",
      "\n",
      "\n",
      "------------+++ new pype iteration 2022:01:12 20:33:21 +++--------------\n",
      "\n",
      "\n",
      "\n",
      "\n",
      "PREPROCESSING\n",
      "detect_reference\n",
      "---------------------------------------------------\n",
      "Reference card found with 237 keypoint matches:\n",
      "template image has 36.623 pixel per mm.\n",
      "current image has 35.424 pixel per mm.\n",
      "= 96.727 %% of template image.\n",
      "---------------------------------------------------\n",
      "write_comment\n",
      "ID\n",
      "\n",
      "\n",
      "MEASUREMENT\n",
      "set_landmark\n",
      "\n",
      "\n",
      "VISUALIZATION\n",
      "draw_landmark\n",
      "draw_reference\n",
      "\n",
      "\n",
      "EXPORT\n",
      "save_annotation\n",
      "- creating new annotation file\n",
      "- writing annotation of type \"reference\" with id \"a\" to \"annotations_v1.json\"\n",
      "- writing annotation of type \"comment\" with id \"a\" to \"annotations_v1.json\"\n",
      "- writing annotation of type \"landmark\" with id \"a\" to \"annotations_v1.json\"\n",
      "\n",
      "\n",
      "------------+++ finished pype iteration +++--------------\n",
      "-------(End with Ctrl+Enter or re-run with Enter)--------\n",
      "\n",
      "\n",
      "AUTOSHOW\n",
      "\n",
      "\n",
      "TERMINATE\n",
      "\n",
      "AUTOSAVE\n",
      "- save_canvas\n",
      "- image saved under D:\\workspace\\git-repos\\phenopype\\phenopype-gallery\\_temp\\example2\\project\\data\\0__stickle3\\canvas_v1.jpg.\n"
     ]
    }
   ],
   "source": [
    "for path in proj.dir_paths:\n",
    "    pp.Pype(path, tag=\"v1\")"
   ]
  },
  {
   "cell_type": "code",
   "execution_count": null,
   "metadata": {},
   "outputs": [],
   "source": []
  }
 ],
 "metadata": {
  "kernelspec": {
   "display_name": "Python 3 (ipykernel)",
   "language": "python",
   "name": "python3"
  },
  "language_info": {
   "codemirror_mode": {
    "name": "ipython",
    "version": 3
   },
   "file_extension": ".py",
   "mimetype": "text/x-python",
   "name": "python",
   "nbconvert_exporter": "python",
   "pygments_lexer": "ipython3",
   "version": "3.7.10"
  }
 },
 "nbformat": 4,
 "nbformat_minor": 2
}
