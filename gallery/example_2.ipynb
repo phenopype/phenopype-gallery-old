{
 "cells": [
  {
   "cell_type": "markdown",
   "metadata": {},
   "source": [
    "# Example 2: Stickleback geometric morphometrics\n",
    "\n",
    "In this example phenopype is used to place morphometric landmarks across the anterior half of a stickleback (*Gasterosteus aculeatus*) stained with alizarin red. "
   ]
  },
  {
   "cell_type": "markdown",
   "metadata": {},
   "source": [
    "<div style=\"display: flex; flex-direction: row; text-align:left; gap: 10px;\"  class=\"row\">\n",
    "    \n",
    "<div class=\"col-md-6\">\n",
    "<img src=\"_figures/ex2_before.jpg\">\n",
    "\n",
    "**Input** - Stained threespine stickleback, photographed in a glycerol bath from a camera stand\n",
    "</div>\n",
    "<div class=\"col-md-6\">\n",
    "<img src=\"_figures/ex2_after.jpg\">\n",
    "\n",
    "**Results** - 22 landmarks are placed using the landmarks tool from the `measurements` module\n",
    "</div>\n",
    "</div>\n",
    "\n",
    "Images kindly provided by Blake Matthews."
   ]
  },
  {
   "cell_type": "markdown",
   "metadata": {},
   "source": [
    "## Background\n",
    "\n",
    "Functional morphology of organisms is often measured by placing landmarks at specific points that show structural, functional or developmental significance. Lake and stream ecotypes of threespine stickleback differ in their morphology: lake stickleback posess elongated spines and a set of tall bony lateral plates that cover most of the body, whereas stream ecotypes have shorter spines and a reduced plate coverage - i.e., fewer and shorter plates, as reviewed in [Hudson et al. (2021)](https://www.frontiersin.org/articles/10.3389/fevo.2020.611672/full)."
   ]
  },
  {
   "cell_type": "markdown",
   "metadata": {},
   "source": [
    "## Preparation "
   ]
  },
  {
   "cell_type": "code",
   "execution_count": 5,
   "metadata": {},
   "outputs": [
    {
     "name": "stdout",
     "output_type": "stream",
     "text": [
      "D:\\workspace\\git-repos\\phenopype\\phenopype-templates\\templates\\gallery\\gallery-example2.yaml\n"
     ]
    }
   ],
   "source": [
    "import phenopype as pp\n",
    "import os\n",
    "import urllib.request\n",
    "\n",
    "name_stub = \"example2\"\n",
    "\n",
    "## create dir, if not existent\n",
    "working_dir = os.path.join(r\"D:\\workspace\\git-repos\\phenopype\\phenopype-gallery\\_temp\", name_stub)\n",
    "if not os.path.isdir(working_dir):\n",
    "    os.makedirs(working_dir)\n",
    "os.chdir(working_dir)\n",
    "\n",
    "## set template name and tag\n",
    "template_name = \"gallery-\" + name_stub + \".yaml\"\n",
    "\n",
    "## download Pype-template from online-repo ...\n",
    "try:\n",
    "    url = \"https://raw.githubusercontent.com/phenopype/phenopype-templates/main/templates/gallery/\" + template_name\n",
    "    urllib.request.urlretrieve(url, template_name)\n",
    "    if os.path.isfile(template_name):\n",
    "        template_path = template_name\n",
    "except:\n",
    "    print(\"could not retrieve template from online repo\")\n",
    "\n",
    "## ... or provide link to downloaded phenopype-templates repo\n",
    "template_repo_path = r\"D:\\workspace\\git-repos\\phenopype\\phenopype-templates\"\n",
    "if os.path.isdir(template_repo_path):\n",
    "    if \"templates\" in os.listdir(template_repo_path):\n",
    "        template_path = os.path.join(template_repo_path, r\"templates\\gallery\", template_name)\n",
    "        \n",
    "## confirm template exists\n",
    "if os.path.isfile(template_path):\n",
    "    print(os.path.abspath(template_path))\n",
    "else:\n",
    "    print(\"something went wrong - could not find template\")"
   ]
  },
  {
   "cell_type": "markdown",
   "metadata": {},
   "source": [
    "## Example project"
   ]
  },
  {
   "cell_type": "code",
   "execution_count": 6,
   "metadata": {},
   "outputs": [
    {
     "name": "stdout",
     "output_type": "stream",
     "text": [
      "--------------------------------------------\n",
      "Found existing project root directory - loading from:\n",
      "D:\\workspace\\git-repos\\phenopype\\phenopype-gallery\\_temp\\example2\\project\n",
      "\n",
      "Project \"project\" successfully loaded with 3 images\n",
      "--------------------------------------------\n"
     ]
    }
   ],
   "source": [
    "proj = pp.Project(\"project\")"
   ]
  },
  {
   "cell_type": "code",
   "execution_count": 7,
   "metadata": {},
   "outputs": [
    {
     "name": "stdout",
     "output_type": "stream",
     "text": [
      "--------------------------------------------\n",
      "phenopype will search for image files at\n",
      "\n",
      "D:\\workspace\\git-repos\\phenopype\\phenopype-gallery\\gallery\\data\n",
      "\n",
      "using the following settings:\n",
      "\n",
      "filetypes: ['jpg', 'JPG', 'jpeg', 'JPEG', 'tif', 'png', 'bmp'], include: stickle, exclude: ['side', 'top'], mode: copy, recursive: False, resize: False, unique: path\n",
      "\n",
      "Found image stickle1.jpg - 0__stickle1 already exists (overwrite=False)\n",
      "Found image stickle2.jpg - 0__stickle2 already exists (overwrite=False)\n",
      "Found image stickle3.jpg - 0__stickle3 already exists (overwrite=False)\n",
      "\n",
      "Found 3 files\n",
      "--------------------------------------------\n"
     ]
    }
   ],
   "source": [
    "proj.add_files(image_dir = r\"../../gallery/data\", include=\"stickle\", exclude=[\"side\",\"top\"])"
   ]
  },
  {
   "cell_type": "code",
   "execution_count": 8,
   "metadata": {},
   "outputs": [
    {
     "name": "stdout",
     "output_type": "stream",
     "text": [
      "- template not saved - file already exists (overwrite=False)\n",
      "- template not saved - file already exists (overwrite=False)\n",
      "- template not saved - file already exists (overwrite=False)\n"
     ]
    }
   ],
   "source": [
    "proj.add_config(template_path=template_path, tag=\"v1\")"
   ]
  },
  {
   "cell_type": "code",
   "execution_count": 9,
   "metadata": {},
   "outputs": [
    {
     "name": "stdout",
     "output_type": "stream",
     "text": [
      "Reference image not saved, file already exists - use \"overwrite==True\" or chose different name.\n",
      "setting active global project reference to \"stickle-scale\" for 0__stickle1 (active=True)\n",
      "setting active global project reference to \"stickle-scale\" for 0__stickle2 (active=True)\n",
      "setting active global project reference to \"stickle-scale\" for 0__stickle3 (active=True)\n"
     ]
    }
   ],
   "source": [
    "proj.add_reference(reference_image_path= r\"../../gallery/data/stickleback_side.jpg\", reference_tag=\"stickle-scale\")"
   ]
  },
  {
   "cell_type": "code",
   "execution_count": 10,
   "metadata": {},
   "outputs": [
    {
     "name": "stdout",
     "output_type": "stream",
     "text": [
      "Format path to abspath\n",
      "- no annotation_type selected - returning all annotations\n",
      "\n",
      "AUTOLOAD\n",
      "- annotations loaded:\n",
      "{\n",
      "\"reference\": [\"a\"],\n",
      "\"comment\": [\"a\"],\n",
      "\"landmark\": [\"a\"]\n",
      "}\n",
      "- reference template image loaded from root directory\n",
      "\n",
      "\n",
      "------------+++ new pype iteration 2022:01:12 23:13:56 +++--------------\n",
      "\n",
      "\n",
      "\n",
      "\n",
      "PREPROCESSING\n",
      "detect_reference\n",
      "- loaded existing annotation of type \"reference\" with ID \"a\": skipping (edit=False)\n",
      "write_comment\n",
      "- loaded existing annotation of type \"comment\" with ID \"a\": skipping (edit=False)\n",
      "\n",
      "\n",
      "MEASUREMENT\n",
      "set_landmark\n",
      "- loaded existing annotation of type \"landmark\" with ID \"a\": skipping (edit=False)\n",
      "\n",
      "\n",
      "VISUALIZATION\n",
      "draw_landmark\n",
      "draw_reference\n",
      "\n",
      "\n",
      "EXPORT\n",
      "save_annotation\n",
      "- loading existing annotation file\n",
      "- annotation of type \"reference\" with id \"a\" already exists in \"annotations_v1.json\" (overwrite=False)\n",
      "- annotation of type \"comment\" with id \"a\" already exists in \"annotations_v1.json\" (overwrite=False)\n",
      "- annotation of type \"landmark\" with id \"a\" already exists in \"annotations_v1.json\" (overwrite=False)\n",
      "\n",
      "\n",
      "------------+++ finished pype iteration +++--------------\n",
      "-------(End with Ctrl+Enter or re-run with Enter)--------\n",
      "\n",
      "\n",
      "AUTOSHOW\n",
      "\n",
      "\n",
      "TERMINATE\n",
      "\n",
      "AUTOSAVE\n",
      "- save_canvas\n",
      "- image saved under D:\\workspace\\git-repos\\phenopype\\phenopype-gallery\\_temp\\example2\\project\\data\\0__stickle1\\canvas_v1.jpg (overwritten).\n",
      "Format path to abspath\n",
      "- no annotation_type selected - returning all annotations\n",
      "\n",
      "AUTOLOAD\n",
      "- annotations loaded:\n",
      "{\n",
      "\"reference\": [\"a\"],\n",
      "\"comment\": [\"a\"],\n",
      "\"landmark\": [\"a\"]\n",
      "}\n",
      "- reference template image loaded from root directory\n",
      "\n",
      "\n",
      "------------+++ new pype iteration 2022:01:12 23:13:58 +++--------------\n",
      "\n",
      "\n",
      "\n",
      "\n",
      "PREPROCESSING\n",
      "detect_reference\n",
      "- loaded existing annotation of type \"reference\" with ID \"a\": skipping (edit=False)\n",
      "write_comment\n",
      "- loaded existing annotation of type \"comment\" with ID \"a\": skipping (edit=False)\n",
      "\n",
      "\n",
      "MEASUREMENT\n",
      "set_landmark\n",
      "- loaded existing annotation of type \"landmark\" with ID \"a\": skipping (edit=False)\n",
      "\n",
      "\n",
      "VISUALIZATION\n",
      "draw_landmark\n",
      "draw_reference\n",
      "\n",
      "\n",
      "EXPORT\n",
      "save_annotation\n",
      "- loading existing annotation file\n",
      "- annotation of type \"reference\" with id \"a\" already exists in \"annotations_v1.json\" (overwrite=False)\n",
      "- annotation of type \"comment\" with id \"a\" already exists in \"annotations_v1.json\" (overwrite=False)\n",
      "- annotation of type \"landmark\" with id \"a\" already exists in \"annotations_v1.json\" (overwrite=False)\n",
      "\n",
      "\n",
      "------------+++ finished pype iteration +++--------------\n",
      "-------(End with Ctrl+Enter or re-run with Enter)--------\n",
      "\n",
      "\n",
      "AUTOSHOW\n",
      "\n",
      "\n",
      "TERMINATE\n",
      "\n",
      "AUTOSAVE\n",
      "- save_canvas\n",
      "- image saved under D:\\workspace\\git-repos\\phenopype\\phenopype-gallery\\_temp\\example2\\project\\data\\0__stickle2\\canvas_v1.jpg (overwritten).\n",
      "Format path to abspath\n",
      "- no annotation_type selected - returning all annotations\n",
      "\n",
      "AUTOLOAD\n",
      "- annotations loaded:\n",
      "{\n",
      "\"reference\": [\"a\"],\n",
      "\"comment\": [\"a\"],\n",
      "\"landmark\": [\"a\"]\n",
      "}\n",
      "- reference template image loaded from root directory\n",
      "\n",
      "\n",
      "------------+++ new pype iteration 2022:01:12 23:14:01 +++--------------\n",
      "\n",
      "\n",
      "\n",
      "\n",
      "PREPROCESSING\n",
      "detect_reference\n",
      "- loaded existing annotation of type \"reference\" with ID \"a\": skipping (edit=False)\n",
      "write_comment\n",
      "- loaded existing annotation of type \"comment\" with ID \"a\": skipping (edit=False)\n",
      "\n",
      "\n",
      "MEASUREMENT\n",
      "set_landmark\n",
      "- loaded existing annotation of type \"landmark\" with ID \"a\": skipping (edit=False)\n",
      "\n",
      "\n",
      "VISUALIZATION\n",
      "draw_landmark\n",
      "draw_reference\n",
      "\n",
      "\n",
      "EXPORT\n",
      "save_annotation\n",
      "- loading existing annotation file\n",
      "- annotation of type \"reference\" with id \"a\" already exists in \"annotations_v1.json\" (overwrite=False)\n",
      "- annotation of type \"comment\" with id \"a\" already exists in \"annotations_v1.json\" (overwrite=False)\n",
      "- annotation of type \"landmark\" with id \"a\" already exists in \"annotations_v1.json\" (overwrite=False)\n",
      "\n",
      "\n",
      "------------+++ finished pype iteration +++--------------\n",
      "-------(End with Ctrl+Enter or re-run with Enter)--------\n",
      "\n",
      "\n",
      "AUTOSHOW\n",
      "\n",
      "\n",
      "TERMINATE\n",
      "\n",
      "AUTOSAVE\n",
      "- save_canvas\n",
      "- image saved under D:\\workspace\\git-repos\\phenopype\\phenopype-gallery\\_temp\\example2\\project\\data\\0__stickle3\\canvas_v1.jpg (overwritten).\n"
     ]
    }
   ],
   "source": [
    "for path in proj.dir_paths:\n",
    "    pp.Pype(path, tag=\"v1\")"
   ]
  },
  {
   "cell_type": "code",
   "execution_count": null,
   "metadata": {},
   "outputs": [],
   "source": []
  }
 ],
 "metadata": {
  "kernelspec": {
   "display_name": "Python 3 (ipykernel)",
   "language": "python",
   "name": "python3"
  },
  "language_info": {
   "codemirror_mode": {
    "name": "ipython",
    "version": 3
   },
   "file_extension": ".py",
   "mimetype": "text/x-python",
   "name": "python",
   "nbconvert_exporter": "python",
   "pygments_lexer": "ipython3",
   "version": "3.7.10"
  }
 },
 "nbformat": 4,
 "nbformat_minor": 2
}
