{
 "cells": [
  {
   "cell_type": "markdown",
   "metadata": {},
   "source": [
    "# Example 8: Extracting shape features from fossil teeth of cichlids\n",
    "\n",
    "This example demonstrates how basic and complex features of tooth-shapes are extracted from images containing single and multiple microscope images. Two separate phenopype projects are used for better organization (single tooth and multiple tooth per images). All images are kindly provided by Ole Seehausen."
   ]
  },
  {
   "cell_type": "markdown",
   "metadata": {},
   "source": [
    "<center>\n",
    "<div style=\"width:600px; text-align: left\" >\n",
    "    \n",
    "![Cichlid jaw](_figures/ex8_jaw.jpg)\n",
    "**Fig. 1** - Teeth of haplochromine cichlids, still attached to the jaw. \n",
    "    \n",
    "</div>\n",
    "</center>"
   ]
  },
  {
   "cell_type": "markdown",
   "metadata": {},
   "source": [
    "## Single tooth case\n",
    "\n",
    "These are single-tooth images where the background is brighter than the teeth, and also quite noisy. The challenges here lie in preventing unwanted objects from being detected (e.g. the checkered paper). In this case, the easiest way is to draw a rectangle mask around the object. Furthermore, the scale bar needs to be measured in every image because it varies in size between images. This is because the microscope software returns non-standardized scale bars that vary between images."
   ]
  },
  {
   "cell_type": "markdown",
   "metadata": {},
   "source": [
    "<div class=\"row; text-align: left\">\n",
    "<div class=\"col-md-6\">\n",
    "    \n",
    "![Before - single tooth case](_figures/ex8_before1.jpg)\n",
    "    \n",
    "</div>\n",
    "<div class=\"col-md-6\">\n",
    "\n",
    "![After - single tooth case](_figures/ex8_after1.jpg)\n",
    "    \n",
    "</div>\n",
    "    \n",
    "**Fig. 2** - single tooth, removed from the jaw.\n",
    "    \n",
    "</div>"
   ]
  },
  {
   "cell_type": "markdown",
   "metadata": {},
   "source": [
    "## High throughput\n",
    "\n",
    "First we need to specify two directory: the root directory of the project (for example, nested within your project folder - see https://mluerig.github.io/phenopype/api.html#projects) and the path to the image folder."
   ]
  },
  {
   "cell_type": "code",
   "execution_count": 1,
   "metadata": {},
   "outputs": [],
   "source": [
    "import phenopype as pp\n",
    "import os \n",
    "\n",
    "root = r\"_temp/output/ex8_single\" ## this is the path to a (new) folder inside your project directory\n",
    "images = r\"images\" "
   ]
  },
  {
   "cell_type": "markdown",
   "metadata": {},
   "source": [
    "Project creation follows the usual procedure (see [Tutorial 3](tutorial_3_phenopype_workflows.ipynb#High-throughput-worflow), [Tutorial 4](tutorial_4_managing_projects.ipynb), or [Example 2](https://mluerig.github.io/phenopype/example_2_landmarks_stickleback.html#High-throughput) and [Example 6](example_6_counting_snails.html#High-throughput)): first we create the project at the root folder location, then we add the images (with \"link\" so the files don't get copied - read about the differences between the two modes in the [API](api.html#phenopype.main.project.add_files)), add pype-configuration files (the preset for this part is \"ex8_1\"), and save the project object."
   ]
  },
  {
   "cell_type": "code",
   "execution_count": 2,
   "metadata": {},
   "outputs": [
    {
     "name": "stdout",
     "output_type": "stream",
     "text": [
      "--------------------------------------------\n",
      "Phenopype will create a new project at\n",
      "E:\\git_repos\\phenopype\\_temp\\output\\ex8_single\n",
      "\n",
      "Proceed? (y/n)\n",
      "y\n",
      "\n",
      "project attributes written to E:\\git_repos\\phenopype\\_temp\\output\\ex8_single\\attributes.yaml\n",
      "--------------------------------------------\n",
      "--------------------------------------------\n",
      "phenopype will search for files at\n",
      "\n",
      "E:\\git_repos\\phenopype\\tutorials\\images\n",
      "\n",
      "using the following settings:\n",
      "\n",
      "filetypes: ['jpg', 'JPG', 'jpeg', 'JPEG', 'tif', 'png'], include: ['cichlid'], exclude: ['multi'], raw_mode: link, search_mode: recursive, unique_mode: path\n",
      "\n",
      "Found image cichlid1.jpg - phenopype-project folder 0__cichlid1 created\n",
      "dirpath defaulted to file directory - E:\\git_repos\\phenopype\\tutorials\\images\n",
      "Directory to save files set at - E:\\git_repos\\phenopype\\tutorials\\images\n",
      "no meta-data found\n",
      "Found image cichlid2.jpg - phenopype-project folder 0__cichlid2 created\n",
      "dirpath defaulted to file directory - E:\\git_repos\\phenopype\\tutorials\\images\n",
      "Directory to save files set at - E:\\git_repos\\phenopype\\tutorials\\images\n",
      "no meta-data found\n",
      "Found image cichlid3.jpg - phenopype-project folder 0__cichlid3 created\n",
      "dirpath defaulted to file directory - E:\\git_repos\\phenopype\\tutorials\\images\n",
      "Directory to save files set at - E:\\git_repos\\phenopype\\tutorials\\images\n",
      "no meta-data found\n",
      "\n",
      "Found 3 files\n",
      "--------------------------------------------\n",
      "pype config generated from ex8_1.\n",
      "pype_v1.yaml created for 0__cichlid1\n",
      "pype_v1.yaml created for 0__cichlid2\n",
      "pype_v1.yaml created for 0__cichlid3\n",
      "Project data saved under E:\\git_repos\\phenopype\\_temp\\output\\ex8_single\\project.data.\n"
     ]
    }
   ],
   "source": [
    "proj = pp.project(root_dir=root)\n",
    "proj.add_files(image_dir=images, search_mode=\"recursive\", raw_mode=\"link\", include=[\"cichlid\"], exclude=[\"multi\"])\n",
    "proj.add_config(name = \"v1\", overwrite=True, config_preset=\"ex8_1\")\n",
    "pp.project.save(proj)"
   ]
  },
  {
   "cell_type": "markdown",
   "metadata": {},
   "source": [
    "Alternatively, if you have already created a project, load it:"
   ]
  },
  {
   "cell_type": "code",
   "execution_count": 3,
   "metadata": {},
   "outputs": [
    {
     "name": "stdout",
     "output_type": "stream",
     "text": [
      "--------------------------------------------\n",
      "Project loaded from \n",
      "E:\\git_repos\\phenopype\\_temp\\output\\ex8_single\n",
      "--------------------------------------------\n"
     ]
    }
   ],
   "source": [
    "proj = pp.project.load(path=root)"
   ]
  },
  {
   "cell_type": "markdown",
   "metadata": {},
   "source": [
    "When using `\"link\"` with adding files, we need to switch to the phenopype root folder so that the relative paths are recognized:"
   ]
  },
  {
   "cell_type": "code",
   "execution_count": 4,
   "metadata": {},
   "outputs": [],
   "source": [
    "os.chdir(root)"
   ]
  },
  {
   "cell_type": "markdown",
   "metadata": {},
   "source": [
    "Now we can process the loaded images in a simple `for` loop. **This is the central step in the analysis,  so refer to the above mentioned tutorials and examples if you are unsure how this procedure works.** Briefly said, phenopype will process all the information provided with the config files, show you the result, and wait for your input. If you are happy with the result, then hit `Enter` after the the script has run (as indicated in the Python console), or change the parameters (e.g. the thresholding value or the contour size cutoff) until your results are satisfying. Here is an example-animation (using a different image, but the principle is the same) for two of the involved tools: `create_mask` and `create_reference` (See [Tutorial 4](tutorial_4_managing_projects.ipynb) and [Example 1](example_1_detect_objects_isopods.ipynb#Drawing-a-mask)):  "
   ]
  },
  {
   "cell_type": "markdown",
   "metadata": {},
   "source": [
    "<center>\n",
    "<div style=\"width:500px; text-align: left\" >\n",
    "    \n",
    "![Example: create scale](_figures/masks1.gif)\n",
    "\n",
    "**Mask creation** - Drag a rectangle across the image and hit enter. The dection algorithims will then only operate within this ROI.\n",
    "\n",
    "![Example: mask tool](_figures/ex1_scale.gif)\n",
    "\n",
    "**Scale measurement** - Drag a line along the scale bar and hit enter. Then enter the measured distance in mm and hit enter. This will include pixel-to-mm information, which we want for every image. In this example, you don't need to do the third step (template/mask creation).\n",
    "\n",
    "</div>\n",
    "</center>"
   ]
  },
  {
   "cell_type": "code",
   "execution_count": 5,
   "metadata": {},
   "outputs": [
    {
     "name": "stdout",
     "output_type": "stream",
     "text": [
      "E:\\git_repos\\phenopype\\_temp\\output\\ex8_single\\data\\0__cichlid1\\pype_config_v1.yaml\n",
      "\n",
      "\n",
      "------------+++ new pype iteration 2020:07:01 19:55:56 +++--------------\n",
      "\n",
      "\n",
      "Nothing loaded.\n",
      "PREPROCESSING\n",
      "create_mask\n",
      "- create mask\n",
      "create_scale\n",
      "- measure pixel-to-mm-ratio\n",
      "Scale set\n",
      "- add column length\n",
      "SEGMENTATION\n",
      "blur\n",
      "threshold\n",
      "- include mask \"mask1\" pixels\n",
      "morphology\n",
      "find_contours\n",
      "MEASUREMENT\n",
      "shape_features\n",
      "VISUALIZATION\n",
      "select_canvas\n",
      "- red channel\n",
      "draw_contours\n",
      "AUTOSAVE\n",
      "save_canvas\n",
      "- canvas saved under E:\\git_repos\\phenopype\\_temp\\output\\ex8_single\\data\\0__cichlid1\\canvas_v1.jpg.\n",
      "save_contours\n",
      "- contours saved under E:\\git_repos\\phenopype\\_temp\\output\\ex8_single\\data\\0__cichlid1\\contours_v1.csv.\n",
      "save_masks\n",
      "- masks saved under E:\\git_repos\\phenopype\\_temp\\output\\ex8_single\\data\\0__cichlid1\\masks_v1.csv.\n",
      "save_scale\n",
      "- save scale to attributes\n",
      "save_shapes\n",
      "- shapes saved under E:\\git_repos\\phenopype\\_temp\\output\\ex8_single\\data\\0__cichlid1\\shapes_v1.csv.\n",
      "\n",
      "\n",
      "TERMINATE\n",
      "E:\\git_repos\\phenopype\\_temp\\output\\ex8_single\\data\\0__cichlid2\\pype_config_v1.yaml\n",
      "\n",
      "\n",
      "------------+++ new pype iteration 2020:07:01 19:56:10 +++--------------\n",
      "\n",
      "\n",
      "Nothing loaded.\n",
      "PREPROCESSING\n",
      "create_mask\n",
      "- create mask\n",
      "create_scale\n",
      "- measure pixel-to-mm-ratio\n",
      "Scale set\n",
      "- add column length\n",
      "SEGMENTATION\n",
      "blur\n",
      "threshold\n",
      "- include mask \"mask1\" pixels\n",
      "morphology\n",
      "find_contours\n",
      "MEASUREMENT\n",
      "shape_features\n",
      "VISUALIZATION\n",
      "select_canvas\n",
      "- red channel\n",
      "draw_contours\n",
      "AUTOSAVE\n",
      "save_canvas\n",
      "- canvas saved under E:\\git_repos\\phenopype\\_temp\\output\\ex8_single\\data\\0__cichlid2\\canvas_v1.jpg.\n",
      "save_contours\n",
      "- contours saved under E:\\git_repos\\phenopype\\_temp\\output\\ex8_single\\data\\0__cichlid2\\contours_v1.csv.\n",
      "save_masks\n",
      "- masks saved under E:\\git_repos\\phenopype\\_temp\\output\\ex8_single\\data\\0__cichlid2\\masks_v1.csv.\n",
      "save_scale\n",
      "- save scale to attributes\n",
      "save_shapes\n",
      "- shapes saved under E:\\git_repos\\phenopype\\_temp\\output\\ex8_single\\data\\0__cichlid2\\shapes_v1.csv.\n",
      "\n",
      "\n",
      "TERMINATE\n",
      "E:\\git_repos\\phenopype\\_temp\\output\\ex8_single\\data\\0__cichlid3\\pype_config_v1.yaml\n",
      "\n",
      "\n",
      "------------+++ new pype iteration 2020:07:01 19:56:26 +++--------------\n",
      "\n",
      "\n",
      "Nothing loaded.\n",
      "PREPROCESSING\n",
      "create_mask\n",
      "- create mask\n",
      "create_scale\n",
      "- measure pixel-to-mm-ratio\n",
      "Scale set\n",
      "- add column length\n",
      "SEGMENTATION\n",
      "blur\n",
      "threshold\n",
      "- include mask \"mask1\" pixels\n",
      "morphology\n",
      "find_contours\n",
      "MEASUREMENT\n",
      "shape_features\n",
      "VISUALIZATION\n",
      "select_canvas\n",
      "- red channel\n",
      "draw_contours\n",
      "AUTOSAVE\n",
      "save_canvas\n",
      "- canvas saved under E:\\git_repos\\phenopype\\_temp\\output\\ex8_single\\data\\0__cichlid3\\canvas_v1.jpg.\n",
      "save_contours\n",
      "- contours saved under E:\\git_repos\\phenopype\\_temp\\output\\ex8_single\\data\\0__cichlid3\\contours_v1.csv.\n",
      "save_masks\n",
      "- masks saved under E:\\git_repos\\phenopype\\_temp\\output\\ex8_single\\data\\0__cichlid3\\masks_v1.csv.\n",
      "save_scale\n",
      "- save scale to attributes\n",
      "save_shapes\n",
      "- shapes saved under E:\\git_repos\\phenopype\\_temp\\output\\ex8_single\\data\\0__cichlid3\\shapes_v1.csv.\n",
      "\n",
      "\n",
      "TERMINATE\n"
     ]
    }
   ],
   "source": [
    "for dirpath in proj.dirpaths:\n",
    "    p1 = pp.pype(dirpath,      \n",
    "                 name=\"v1\",      ## note that this is the name we gave our configuration file. \n",
    "                                 ## with this you can specify multiple configurations side by side, e.g. if you \n",
    "                                 ## want to re-run some of the analysis, but don't want overwrite your past attempts\n",
    "                 skip=True       ## this will skip image-folders that already have results in them\n",
    "                )"
   ]
  },
  {
   "cell_type": "markdown",
   "metadata": {},
   "source": [
    "After we completed the loop, use the `collect_results` method of `proj` to save all results to a folder in the root directory."
   ]
  },
  {
   "cell_type": "code",
   "execution_count": 6,
   "metadata": {},
   "outputs": [
    {
     "name": "stdout",
     "output_type": "stream",
     "text": [
      "Created E:\\git_repos\\phenopype\\_temp\\output\\ex8_single\\shape_features\n",
      "Collected shapes_v1.csv from 0__cichlid1\n",
      "0__cichlid1_shapes_v1.csv saved under E:\\git_repos\\phenopype\\_temp\\output\\ex8_single\\shape_features\\0__cichlid1_shapes_v1.csv.\n",
      "Collected shapes_v1.csv from 0__cichlid2\n",
      "0__cichlid2_shapes_v1.csv saved under E:\\git_repos\\phenopype\\_temp\\output\\ex8_single\\shape_features\\0__cichlid2_shapes_v1.csv.\n",
      "Collected shapes_v1.csv from 0__cichlid3\n",
      "0__cichlid3_shapes_v1.csv saved under E:\\git_repos\\phenopype\\_temp\\output\\ex8_single\\shape_features\\0__cichlid3_shapes_v1.csv.\n"
     ]
    }
   ],
   "source": [
    "proj.collect_results(name=\"v1\",files=\"shapes\", folder=\"shape_features\", overwrite=True)"
   ]
  },
  {
   "cell_type": "markdown",
   "metadata": {},
   "source": [
    "## Multiple teeth\n",
    "\n",
    "Now we will implement the same procedure for the images with multiple teeth, which require only a slightly altered configuration."
   ]
  },
  {
   "cell_type": "markdown",
   "metadata": {},
   "source": [
    "<div class=\"row; text-align: left\">\n",
    "<div class=\"col-md-6\">\n",
    "    \n",
    "![Before](_figures/ex8_before2.jpg)\n",
    "    \n",
    "</div>\n",
    "<div class=\"col-md-6\">\n",
    "\n",
    "![After](_figures/ex8_after2.jpg)\n",
    "    \n",
    "</div>\n",
    "</div>\n",
    "    \n",
    "</div>"
   ]
  },
  {
   "cell_type": "markdown",
   "metadata": {},
   "source": [
    "## High throughput\n",
    "\n",
    "**Before running this part, restart the Kernel to reset the working-directory position.**\n",
    "\n",
    "Again, we need to specify the paths, and create the project."
   ]
  },
  {
   "cell_type": "code",
   "execution_count": 1,
   "metadata": {},
   "outputs": [],
   "source": [
    "import phenopype as pp\n",
    "import os \n",
    "\n",
    "root = r\"_temp/output/ex8_multiple\" ## this is the path to a (new) folder inside your project directory\n",
    "images = r\"images\" "
   ]
  },
  {
   "cell_type": "code",
   "execution_count": 2,
   "metadata": {},
   "outputs": [
    {
     "name": "stdout",
     "output_type": "stream",
     "text": [
      "--------------------------------------------\n",
      "Phenopype will create a new project at\n",
      "E:\\git_repos\\phenopype\\_temp\\output\\ex8_multiple\n",
      "\n",
      "Proceed? (y/n)\n",
      "y\n",
      "Warning - project root_dir already exists - overwrite? (y/n)y\n",
      "\n",
      "\"E:\\git_repos\\phenopype\\_temp\\output\\ex8_multiple\" created (overwritten)\n",
      "\n",
      "project attributes written to E:\\git_repos\\phenopype\\_temp\\output\\ex8_multiple\\attributes.yaml\n",
      "--------------------------------------------\n",
      "--------------------------------------------\n",
      "phenopype will search for files at\n",
      "\n",
      "E:\\git_repos\\phenopype\\tutorials\\images\n",
      "\n",
      "using the following settings:\n",
      "\n",
      "filetypes: ['jpg', 'JPG', 'jpeg', 'JPEG', 'tif', 'png'], include: ['cichlid_multi'], exclude: [], raw_mode: link, search_mode: recursive, unique_mode: path\n",
      "\n",
      "Found image cichlid_multi1.jpg - phenopype-project folder 0__cichlid_multi1 created\n",
      "dirpath defaulted to file directory - E:\\git_repos\\phenopype\\tutorials\\images\n",
      "Directory to save files set at - E:\\git_repos\\phenopype\\tutorials\\images\n",
      "no meta-data found\n",
      "Found image cichlid_multi2.jpg - phenopype-project folder 0__cichlid_multi2 created\n",
      "dirpath defaulted to file directory - E:\\git_repos\\phenopype\\tutorials\\images\n",
      "Directory to save files set at - E:\\git_repos\\phenopype\\tutorials\\images\n",
      "no meta-data found\n",
      "Found image cichlid_multi3.jpg - phenopype-project folder 0__cichlid_multi3 created\n",
      "dirpath defaulted to file directory - E:\\git_repos\\phenopype\\tutorials\\images\n",
      "Directory to save files set at - E:\\git_repos\\phenopype\\tutorials\\images\n",
      "no meta-data found\n",
      "\n",
      "Found 3 files\n",
      "--------------------------------------------\n",
      "pype config generated from ex8_2.\n",
      "pype_v1.yaml created for 0__cichlid_multi1\n",
      "pype_v1.yaml created for 0__cichlid_multi2\n",
      "pype_v1.yaml created for 0__cichlid_multi3\n",
      "Project data saved under E:\\git_repos\\phenopype\\_temp\\output\\ex8_multiple\\project.data.\n"
     ]
    }
   ],
   "source": [
    "proj = pp.project(root_dir=root)\n",
    "proj.add_files(image_dir=images, search_mode=\"recursive\", raw_mode=\"link\", include=[\"cichlid_multi\"])\n",
    "proj.add_config(name = \"v1\", overwrite=True, config_preset=\"ex8_2\")\n",
    "pp.project.save(proj)"
   ]
  },
  {
   "cell_type": "code",
   "execution_count": 3,
   "metadata": {},
   "outputs": [],
   "source": [
    "os.chdir(root)"
   ]
  },
  {
   "cell_type": "markdown",
   "metadata": {},
   "source": [
    "Note that here you need to perform an extra step after specifying the scale: since we did not use a mask that excludes unwanted noise (as in the single tooth part above), we need to manually exclude the little scale bar in the bottom corner. Therefore, in the example preset `\"ex8_2\"`, the `mask` argument is already specified. After typing in the distance in mm, you need to drag a rectangle across the mask - (no need to stop the cursor at the edges of the window, just drag it beyond). "
   ]
  },
  {
   "cell_type": "markdown",
   "metadata": {},
   "source": [
    "Now you can loop through all directories stored within the project object to detect the snails."
   ]
  },
  {
   "cell_type": "code",
   "execution_count": 4,
   "metadata": {},
   "outputs": [
    {
     "name": "stdout",
     "output_type": "stream",
     "text": [
      "E:\\git_repos\\phenopype\\_temp\\output\\ex8_multiple\\data/0__cichlid_multi1\\pype_config_v1.yaml\n",
      "\n",
      "\n",
      "------------+++ new pype iteration 2020:07:01 19:57:19 +++--------------\n",
      "\n",
      "\n",
      "Nothing loaded.\n",
      "PREPROCESSING\n",
      "create_scale\n",
      "- measure pixel-to-mm-ratio\n",
      "Scale set\n",
      "- add column length\n",
      "Template selected\n",
      "SEGMENTATION\n",
      "blur\n",
      "threshold\n",
      "- exclude mask \"scale\" pixels\n",
      "morphology\n",
      "find_contours\n",
      "MEASUREMENT\n",
      "shape_features\n",
      "VISUALIZATION\n",
      "select_canvas\n",
      "- red channel\n",
      "draw_contours\n",
      "AUTOSAVE\n",
      "save_canvas\n",
      "- canvas saved under E:\\git_repos\\phenopype\\_temp\\output\\ex8_multiple\\data/0__cichlid_multi1\\canvas_v1.jpg.\n",
      "save_contours\n",
      "- contours saved under E:\\git_repos\\phenopype\\_temp\\output\\ex8_multiple\\data/0__cichlid_multi1\\contours_v1.csv.\n",
      "save_masks\n",
      "- masks saved under E:\\git_repos\\phenopype\\_temp\\output\\ex8_multiple\\data/0__cichlid_multi1\\masks_v1.csv.\n",
      "save_scale\n",
      "- save scale to attributes\n",
      "save_shapes\n",
      "- shapes saved under E:\\git_repos\\phenopype\\_temp\\output\\ex8_multiple\\data/0__cichlid_multi1\\shapes_v1.csv.\n",
      "\n",
      "\n",
      "TERMINATE\n",
      "E:\\git_repos\\phenopype\\_temp\\output\\ex8_multiple\\data/0__cichlid_multi2\\pype_config_v1.yaml\n",
      "\n",
      "\n",
      "------------+++ new pype iteration 2020:07:01 19:57:34 +++--------------\n",
      "\n",
      "\n",
      "Nothing loaded.\n",
      "PREPROCESSING\n",
      "create_scale\n",
      "- measure pixel-to-mm-ratio\n",
      "Scale set\n",
      "- add column length\n",
      "Template selected\n",
      "SEGMENTATION\n",
      "blur\n",
      "threshold\n",
      "- exclude mask \"scale\" pixels\n",
      "morphology\n",
      "find_contours\n",
      "MEASUREMENT\n",
      "shape_features\n",
      "VISUALIZATION\n",
      "select_canvas\n",
      "- red channel\n",
      "draw_contours\n",
      "AUTOSAVE\n",
      "save_canvas\n",
      "- canvas saved under E:\\git_repos\\phenopype\\_temp\\output\\ex8_multiple\\data/0__cichlid_multi2\\canvas_v1.jpg.\n",
      "save_contours\n",
      "- contours saved under E:\\git_repos\\phenopype\\_temp\\output\\ex8_multiple\\data/0__cichlid_multi2\\contours_v1.csv.\n",
      "save_masks\n",
      "- masks saved under E:\\git_repos\\phenopype\\_temp\\output\\ex8_multiple\\data/0__cichlid_multi2\\masks_v1.csv.\n",
      "save_scale\n",
      "- save scale to attributes\n",
      "save_shapes\n",
      "- shapes saved under E:\\git_repos\\phenopype\\_temp\\output\\ex8_multiple\\data/0__cichlid_multi2\\shapes_v1.csv.\n",
      "\n",
      "\n",
      "TERMINATE\n",
      "E:\\git_repos\\phenopype\\_temp\\output\\ex8_multiple\\data/0__cichlid_multi3\\pype_config_v1.yaml\n",
      "\n",
      "\n",
      "------------+++ new pype iteration 2020:07:01 19:57:45 +++--------------\n",
      "\n",
      "\n",
      "Nothing loaded.\n",
      "PREPROCESSING\n",
      "create_scale\n",
      "- measure pixel-to-mm-ratio\n",
      "Scale set\n",
      "- add column length\n",
      "Template selected\n",
      "SEGMENTATION\n",
      "blur\n",
      "threshold\n",
      "- exclude mask \"scale\" pixels\n",
      "morphology\n",
      "find_contours\n",
      "MEASUREMENT\n",
      "shape_features\n",
      "VISUALIZATION\n",
      "select_canvas\n",
      "- red channel\n",
      "draw_contours\n",
      "AUTOSAVE\n",
      "save_canvas\n",
      "- canvas saved under E:\\git_repos\\phenopype\\_temp\\output\\ex8_multiple\\data/0__cichlid_multi3\\canvas_v1.jpg.\n",
      "save_contours\n",
      "- contours saved under E:\\git_repos\\phenopype\\_temp\\output\\ex8_multiple\\data/0__cichlid_multi3\\contours_v1.csv.\n",
      "save_masks\n",
      "- masks saved under E:\\git_repos\\phenopype\\_temp\\output\\ex8_multiple\\data/0__cichlid_multi3\\masks_v1.csv.\n",
      "save_scale\n",
      "- save scale to attributes\n",
      "save_shapes\n",
      "- shapes saved under E:\\git_repos\\phenopype\\_temp\\output\\ex8_multiple\\data/0__cichlid_multi3\\shapes_v1.csv.\n",
      "\n",
      "\n",
      "TERMINATE\n"
     ]
    }
   ],
   "source": [
    "for i in proj.dirpaths:\n",
    "    p = pp.pype(i, name=\"v1\")"
   ]
  },
  {
   "cell_type": "markdown",
   "metadata": {},
   "source": [
    "In the end, use the `collect_results` method of `proj` to save all results to a folder in the root directory."
   ]
  },
  {
   "cell_type": "code",
   "execution_count": 5,
   "metadata": {},
   "outputs": [
    {
     "name": "stdout",
     "output_type": "stream",
     "text": [
      "Created E:\\git_repos\\phenopype\\_temp\\output\\ex8_multiple\\shape_features\n",
      "Collected shapes_v1.csv from 0__cichlid_multi1\n",
      "0__cichlid_multi1_shapes_v1.csv saved under E:\\git_repos\\phenopype\\_temp\\output\\ex8_multiple\\shape_features\\0__cichlid_multi1_shapes_v1.csv.\n",
      "Collected shapes_v1.csv from 0__cichlid_multi2\n",
      "0__cichlid_multi2_shapes_v1.csv saved under E:\\git_repos\\phenopype\\_temp\\output\\ex8_multiple\\shape_features\\0__cichlid_multi2_shapes_v1.csv.\n",
      "Collected shapes_v1.csv from 0__cichlid_multi3\n",
      "0__cichlid_multi3_shapes_v1.csv saved under E:\\git_repos\\phenopype\\_temp\\output\\ex8_multiple\\shape_features\\0__cichlid_multi3_shapes_v1.csv.\n"
     ]
    }
   ],
   "source": [
    "proj.collect_results(name=\"v1\",files=\"shapes\", folder=\"shape_features\", overwrite=True)"
   ]
  },
  {
   "cell_type": "code",
   "execution_count": null,
   "metadata": {},
   "outputs": [],
   "source": []
  }
 ],
 "metadata": {
  "kernelspec": {
   "display_name": "Python 3 (ipykernel)",
   "language": "python",
   "name": "python3"
  },
  "language_info": {
   "codemirror_mode": {
    "name": "ipython",
    "version": 3
   },
   "file_extension": ".py",
   "mimetype": "text/x-python",
   "name": "python",
   "nbconvert_exporter": "python",
   "pygments_lexer": "ipython3",
   "version": "3.7.10"
  }
 },
 "nbformat": 4,
 "nbformat_minor": 4
}
